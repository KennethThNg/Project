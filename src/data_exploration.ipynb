{
 "cells": [
  {
   "cell_type": "markdown",
   "metadata": {},
   "source": [
    "# Official public work with private tools"
   ]
  },
  {
   "cell_type": "markdown",
   "metadata": {},
   "source": [
    "This report is dedicated to the analysis of the data on Hilary Clinton'email. The idea of this project is to understand the email controversy arising from use of private email server for official communiactions during her tenure as Secretary of State hit the headline of the media in 2015."
   ]
  },
  {
   "cell_type": "markdown",
   "metadata": {},
   "source": [
    "## Data extraction and exploration"
   ]
  },
  {
   "cell_type": "markdown",
   "metadata": {},
   "source": [
    "In this section, we extract the data from Kaggle. We use the sql file since there are four csv files. We use the package sqlite to extract the data and also all the already used package for the applied data analysis courses."
   ]
  },
  {
   "cell_type": "code",
   "execution_count": 1,
   "metadata": {},
   "outputs": [],
   "source": [
    "import numpy as np\n",
    "import pandas as pd\n",
    "from datetime import datetime, date, time\n",
    "import nltk\n",
    "import matplotlib.pyplot as plt\n",
    "\n",
    "pd.options.mode.chained_assignment = None  # default='warn', Mutes warnings when copying a slice from a DataFrame."
   ]
  },
  {
   "cell_type": "code",
   "execution_count": 2,
   "metadata": {},
   "outputs": [],
   "source": [
    "data_folder = \"../data/\""
   ]
  },
  {
   "cell_type": "code",
   "execution_count": 3,
   "metadata": {},
   "outputs": [],
   "source": [
    "#Data extraction from the csv-files\n",
    "emails_raw = pd.read_csv(data_folder + 'Emails.csv')\n",
    "persons = pd.read_csv(data_folder + 'Persons.csv')\n",
    "aliases = pd.read_csv(data_folder + 'Aliases.csv')\n",
    "email_receivers = pd.read_csv(data_folder + 'EmailReceivers.csv')"
   ]
  },
  {
   "cell_type": "code",
   "execution_count": 4,
   "metadata": {},
   "outputs": [
    {
     "name": "stdout",
     "output_type": "stream",
     "text": [
      "emails: (7945, 22)\n",
      "persons: (513, 2)\n",
      "aliases: (513, 2)\n",
      "email receivers: (9306, 3)\n"
     ]
    }
   ],
   "source": [
    "print(\"emails:\", emails_raw.shape)\n",
    "print(\"persons:\", persons.shape)\n",
    "print(\"aliases:\", persons.shape)\n",
    "print(\"email receivers:\", email_receivers.shape)"
   ]
  },
  {
   "cell_type": "markdown",
   "metadata": {},
   "source": [
    "The data is available in two formats: csv and sql. This means that the elements are somehow related. We will see later that the entity relationship diagram is not as it should have been done.\n",
    "\n",
    "For the moment, let's discover what we have. Extraction was performed according to some fields. Let us check whether or not we can rely on it."
   ]
  },
  {
   "cell_type": "code",
   "execution_count": null,
   "metadata": {},
   "outputs": [],
   "source": [
    "persons.head()"
   ]
  },
  {
   "cell_type": "code",
   "execution_count": null,
   "metadata": {},
   "outputs": [],
   "source": [
    "persons.dtypes"
   ]
  },
  {
   "cell_type": "code",
   "execution_count": null,
   "metadata": {},
   "outputs": [],
   "source": [
    "aliases.head()"
   ]
  },
  {
   "cell_type": "code",
   "execution_count": null,
   "metadata": {},
   "outputs": [],
   "source": [
    "aliases.dtypes"
   ]
  },
  {
   "cell_type": "markdown",
   "metadata": {},
   "source": [
    "It is worth to mention one person can have multiple aliases. However, each alias points to a single person."
   ]
  },
  {
   "cell_type": "code",
   "execution_count": null,
   "metadata": {},
   "outputs": [],
   "source": [
    "aliases.PersonId.is_unique"
   ]
  },
  {
   "cell_type": "code",
   "execution_count": null,
   "metadata": {},
   "outputs": [],
   "source": [
    "aliases.Alias.is_unique"
   ]
  },
  {
   "cell_type": "code",
   "execution_count": null,
   "metadata": {},
   "outputs": [],
   "source": [
    "email_receivers.head()"
   ]
  },
  {
   "cell_type": "code",
   "execution_count": null,
   "metadata": {},
   "outputs": [],
   "source": [
    "email_receivers.dtypes"
   ]
  },
  {
   "cell_type": "code",
   "execution_count": null,
   "metadata": {},
   "outputs": [],
   "source": [
    "emails_raw.head()"
   ]
  },
  {
   "cell_type": "code",
   "execution_count": null,
   "metadata": {},
   "outputs": [],
   "source": [
    "aliases[aliases.Alias.str.strip() == ';H']"
   ]
  },
  {
   "cell_type": "markdown",
   "metadata": {},
   "source": [
    "We cannot perform a direct mapping from the fields of `emails` to the fields of `aliases`.\n",
    "\n",
    "This table contains 22 columns and the pandas does not display everything."
   ]
  },
  {
   "cell_type": "code",
   "execution_count": null,
   "metadata": {},
   "outputs": [],
   "source": [
    "emails_raw.dtypes"
   ]
  },
  {
   "cell_type": "markdown",
   "metadata": {},
   "source": [
    "Unfortunately, we will have to perform some actions to get the identities of the 'from', 'to' and 'cc'. Actually, we have the value of the 'to' from the table `emails_receiver` and it points towards the `PersonId` field. However, the fields 'from' and 'cc' point towards the `aliases` (not even its identifiers!)."
   ]
  },
  {
   "cell_type": "code",
   "execution_count": null,
   "metadata": {},
   "outputs": [],
   "source": [
    "emails_raw.DocNumber.is_unique"
   ]
  },
  {
   "cell_type": "code",
   "execution_count": null,
   "metadata": {},
   "outputs": [],
   "source": [
    "emails_raw.MetadataCaseNumber.unique()"
   ]
  },
  {
   "cell_type": "code",
   "execution_count": null,
   "metadata": {},
   "outputs": [],
   "source": [
    "emails_raw.MetadataDocumentClass.unique()"
   ]
  },
  {
   "cell_type": "code",
   "execution_count": null,
   "metadata": {},
   "outputs": [],
   "source": [
    "emails_raw.ExtractedReleaseInPartOrFull.unique()"
   ]
  },
  {
   "cell_type": "markdown",
   "metadata": {},
   "source": [
    "The meaning of these fields are obscure. It is time to cast what we can."
   ]
  },
  {
   "cell_type": "code",
   "execution_count": 5,
   "metadata": {},
   "outputs": [],
   "source": [
    "emails_raw.MetadataDateSent = emails_raw.MetadataDateSent.map(pd.to_datetime)\n",
    "emails_raw.MetadataDateReleased = emails_raw.MetadataDateReleased.map(pd.to_datetime)\n",
    "emails_raw.ExtractedDateReleased = emails_raw.ExtractedDateReleased.map(pd.to_datetime)\n",
    "emails_raw.ExtractedReleaseInPartOrFull = emails_raw.ExtractedReleaseInPartOrFull.astype('category') # 3 enumerations\n",
    "emails_raw.MetadataCaseNumber = emails_raw.MetadataCaseNumber.astype('category') # 5 enumerations\n",
    "emails_raw.MetadataDocumentClass = emails_raw.MetadataDocumentClass.astype('category') # 4 enumerations"
   ]
  },
  {
   "cell_type": "code",
   "execution_count": null,
   "metadata": {},
   "outputs": [],
   "source": [
    "emails_raw.groupby('ExtractedReleaseInPartOrFull').size()"
   ]
  },
  {
   "cell_type": "code",
   "execution_count": null,
   "metadata": {},
   "outputs": [],
   "source": [
    "emails_raw.groupby('MetadataCaseNumber').size()"
   ]
  },
  {
   "cell_type": "code",
   "execution_count": null,
   "metadata": {},
   "outputs": [],
   "source": [
    "emails_raw.groupby('MetadataDocumentClass').size()"
   ]
  },
  {
   "cell_type": "markdown",
   "metadata": {},
   "source": [
    "## Restructuring the tables\n",
    "\n",
    "The structure of the database does not respect the basic principles. We can see it if we draw the entity relationship diagram.\n",
    "\n",
    "**TODO** insert here the picture of the ER provided.\n",
    "\n",
    "The links between the tables should not be redundant because this leads to possible inconsistent states and errors.\n",
    "\n",
    "**TODO** insert here the picture of the ER we will build."
   ]
  },
  {
   "cell_type": "markdown",
   "metadata": {},
   "source": [
    "### Choose relevant fields"
   ]
  },
  {
   "cell_type": "markdown",
   "metadata": {},
   "source": [
    "Fortunately, `ExtractedDataSent` is redundant because it is contained in `MetadataDateSent` when it is not `null`. So we can simply drop it. This is great because it saves us from a lot of monkey work."
   ]
  },
  {
   "cell_type": "code",
   "execution_count": null,
   "metadata": {},
   "outputs": [],
   "source": [
    "print(emails_raw.MetadataDateSent.values[10])\n",
    "print(emails_raw.ExtractedDateSent.values[10])"
   ]
  },
  {
   "cell_type": "markdown",
   "metadata": {},
   "source": [
    "While testing manually random values, we conclude we will have to extract the content ourselves."
   ]
  },
  {
   "cell_type": "code",
   "execution_count": null,
   "metadata": {},
   "outputs": [],
   "source": [
    "# we have checked the for index 0 to 6, then random\n",
    "idx = 1000\n",
    "\n",
    "# The field `ExtractedReleaseInPartOrFull` seems to be useless\n",
    "print(emails_raw.ExtractedReleaseInPartOrFull[idx])\n",
    "print('***')\n",
    "print(emails_raw.ExtractedBodyText[idx])\n",
    "print('*******************')\n",
    "print(emails_raw.RawText[idx])"
   ]
  },
  {
   "cell_type": "markdown",
   "metadata": {},
   "source": [
    "To summarize, we keep temporarly (and will eventually rename):\n",
    "\n",
    "* `Id` (id)\n",
    "* `MetadataSubject` (subject)\n",
    "* `SenderPersonId` (from)\n",
    "* `MetadataTo` (to_alias)\n",
    "* `ExtractedCc` (cc_alias)\n",
    "* `MetadataDateSent` (sent)\n",
    "* `MetadataDateReleased` (released)\n",
    "* `MetadataCaseNumber` (case_number)\n",
    "* `MetadataDocumentClass` (document_class)\n",
    "* `RawText` (content)"
   ]
  },
  {
   "cell_type": "code",
   "execution_count": 6,
   "metadata": {},
   "outputs": [],
   "source": [
    "# We only keep the fields which appear in the itemization above\n",
    "emails = emails_raw[['Id', 'MetadataSubject', 'SenderPersonId', 'MetadataTo', 'ExtractedCc', 'MetadataDateSent', 'MetadataDateReleased', 'MetadataCaseNumber', 'MetadataDocumentClass', 'RawText']]"
   ]
  },
  {
   "cell_type": "code",
   "execution_count": 7,
   "metadata": {},
   "outputs": [
    {
     "data": {
      "text/html": [
       "<div>\n",
       "<style scoped>\n",
       "    .dataframe tbody tr th:only-of-type {\n",
       "        vertical-align: middle;\n",
       "    }\n",
       "\n",
       "    .dataframe tbody tr th {\n",
       "        vertical-align: top;\n",
       "    }\n",
       "\n",
       "    .dataframe thead th {\n",
       "        text-align: right;\n",
       "    }\n",
       "</style>\n",
       "<table border=\"1\" class=\"dataframe\">\n",
       "  <thead>\n",
       "    <tr style=\"text-align: right;\">\n",
       "      <th></th>\n",
       "      <th>Id</th>\n",
       "      <th>MetadataSubject</th>\n",
       "      <th>SenderPersonId</th>\n",
       "      <th>MetadataTo</th>\n",
       "      <th>ExtractedCc</th>\n",
       "      <th>MetadataDateSent</th>\n",
       "      <th>MetadataDateReleased</th>\n",
       "      <th>MetadataCaseNumber</th>\n",
       "      <th>MetadataDocumentClass</th>\n",
       "      <th>RawText</th>\n",
       "    </tr>\n",
       "  </thead>\n",
       "  <tbody>\n",
       "    <tr>\n",
       "      <th>0</th>\n",
       "      <td>1</td>\n",
       "      <td>WOW</td>\n",
       "      <td>87.0</td>\n",
       "      <td>H</td>\n",
       "      <td>NaN</td>\n",
       "      <td>2012-09-12 04:00:00</td>\n",
       "      <td>2015-05-22 04:00:00</td>\n",
       "      <td>F-2015-04841</td>\n",
       "      <td>HRC_Email_296</td>\n",
       "      <td>UNCLASSIFIED\\nU.S. Department of State\\nCase N...</td>\n",
       "    </tr>\n",
       "    <tr>\n",
       "      <th>1</th>\n",
       "      <td>2</td>\n",
       "      <td>H: LATEST: HOW SYRIA IS AIDING QADDAFI AND MOR...</td>\n",
       "      <td>NaN</td>\n",
       "      <td>H</td>\n",
       "      <td>NaN</td>\n",
       "      <td>2011-03-03 05:00:00</td>\n",
       "      <td>2015-05-22 04:00:00</td>\n",
       "      <td>F-2015-04841</td>\n",
       "      <td>HRC_Email_296</td>\n",
       "      <td>UNCLASSIFIED\\nU.S. Department of State\\nCase N...</td>\n",
       "    </tr>\n",
       "    <tr>\n",
       "      <th>2</th>\n",
       "      <td>3</td>\n",
       "      <td>CHRIS STEVENS</td>\n",
       "      <td>32.0</td>\n",
       "      <td>;H</td>\n",
       "      <td>Abedin, Huma</td>\n",
       "      <td>2012-09-12 04:00:00</td>\n",
       "      <td>2015-05-22 04:00:00</td>\n",
       "      <td>F-2015-04841</td>\n",
       "      <td>HRC_Email_296</td>\n",
       "      <td>UNCLASSIFIED\\nU.S. Department of State\\nCase N...</td>\n",
       "    </tr>\n",
       "    <tr>\n",
       "      <th>3</th>\n",
       "      <td>4</td>\n",
       "      <td>CAIRO CONDEMNATION - FINAL</td>\n",
       "      <td>32.0</td>\n",
       "      <td>H</td>\n",
       "      <td>Mitchell, Andrew B</td>\n",
       "      <td>2012-09-12 04:00:00</td>\n",
       "      <td>2015-05-22 04:00:00</td>\n",
       "      <td>F-2015-04841</td>\n",
       "      <td>HRC_Email_296</td>\n",
       "      <td>UNCLASSIFIED\\nU.S. Department of State\\nCase N...</td>\n",
       "    </tr>\n",
       "    <tr>\n",
       "      <th>4</th>\n",
       "      <td>5</td>\n",
       "      <td>H: LATEST: HOW SYRIA IS AIDING QADDAFI AND MOR...</td>\n",
       "      <td>80.0</td>\n",
       "      <td>Abedin, Huma</td>\n",
       "      <td>NaN</td>\n",
       "      <td>2011-03-11 05:00:00</td>\n",
       "      <td>2015-05-22 04:00:00</td>\n",
       "      <td>F-2015-04841</td>\n",
       "      <td>HRC_Email_296</td>\n",
       "      <td>B6\\nUNCLASSIFIED\\nU.S. Department of State\\nCa...</td>\n",
       "    </tr>\n",
       "  </tbody>\n",
       "</table>\n",
       "</div>"
      ],
      "text/plain": [
       "   Id                                    MetadataSubject  SenderPersonId  \\\n",
       "0   1                                                WOW            87.0   \n",
       "1   2  H: LATEST: HOW SYRIA IS AIDING QADDAFI AND MOR...             NaN   \n",
       "2   3                                      CHRIS STEVENS            32.0   \n",
       "3   4                         CAIRO CONDEMNATION - FINAL            32.0   \n",
       "4   5  H: LATEST: HOW SYRIA IS AIDING QADDAFI AND MOR...            80.0   \n",
       "\n",
       "     MetadataTo         ExtractedCc    MetadataDateSent MetadataDateReleased  \\\n",
       "0             H                 NaN 2012-09-12 04:00:00  2015-05-22 04:00:00   \n",
       "1             H                 NaN 2011-03-03 05:00:00  2015-05-22 04:00:00   \n",
       "2            ;H        Abedin, Huma 2012-09-12 04:00:00  2015-05-22 04:00:00   \n",
       "3             H  Mitchell, Andrew B 2012-09-12 04:00:00  2015-05-22 04:00:00   \n",
       "4  Abedin, Huma                 NaN 2011-03-11 05:00:00  2015-05-22 04:00:00   \n",
       "\n",
       "  MetadataCaseNumber MetadataDocumentClass  \\\n",
       "0       F-2015-04841         HRC_Email_296   \n",
       "1       F-2015-04841         HRC_Email_296   \n",
       "2       F-2015-04841         HRC_Email_296   \n",
       "3       F-2015-04841         HRC_Email_296   \n",
       "4       F-2015-04841         HRC_Email_296   \n",
       "\n",
       "                                             RawText  \n",
       "0  UNCLASSIFIED\\nU.S. Department of State\\nCase N...  \n",
       "1  UNCLASSIFIED\\nU.S. Department of State\\nCase N...  \n",
       "2  UNCLASSIFIED\\nU.S. Department of State\\nCase N...  \n",
       "3  UNCLASSIFIED\\nU.S. Department of State\\nCase N...  \n",
       "4  B6\\nUNCLASSIFIED\\nU.S. Department of State\\nCa...  "
      ]
     },
     "execution_count": 7,
     "metadata": {},
     "output_type": "execute_result"
    }
   ],
   "source": [
    "emails.head()"
   ]
  },
  {
   "cell_type": "markdown",
   "metadata": {},
   "source": [
    "### Recover dirty or missing values\n",
    "\n",
    "We will proceed one field after the other because theese three columns require different strategies.\n",
    "\n",
    "#### Recover `SenderPersonId`\n",
    "\n",
    "We decided to read the content, line by line, and we define the first (non-empty) value.\n",
    "\n",
    "#### Recover `MetadataTo`\n",
    "\n",
    "Reading the value from the table `email_receivers` is not a good idea because the difference between destination and cc is not shown.\n",
    "\n",
    "We find the `personId` through the alias provided in `MetadataTo`. Of couse, we need to preprocess it before fetching the person identifier. We will see it works pretty good: 7671 / 7690. If we include the `NaN`, we have 7671 / 7945.\n",
    "\n",
    "For the `NaN` we use the same algorithm as the one used for extracting `SenderPersonId`.\n",
    "\n",
    "#### Recover `ExtractedCC`\n",
    "\n",
    "We use the table `email_receivers` and remove the row containing the value of `SenderPersonId` for each email identifier."
   ]
  },
  {
   "cell_type": "code",
   "execution_count": 8,
   "metadata": {},
   "outputs": [],
   "source": [
    "from extractor import Extractor\n",
    "from process import Process"
   ]
  },
  {
   "cell_type": "code",
   "execution_count": 9,
   "metadata": {},
   "outputs": [
    {
     "name": "stdout",
     "output_type": "stream",
     "text": [
      "We manage to recover 11 out of 157 NaN for the sender_id.\n"
     ]
    }
   ],
   "source": [
    "# SenderPersonId\n",
    "counter_nan = 0\n",
    "counter_recover = 0\n",
    "\n",
    "for i in range(emails.shape[0]):\n",
    "    if np.isnan(emails.SenderPersonId[i]):\n",
    "        counter_nan += 1\n",
    "        extracted = Extractor.sender_alias(emails.RawText[i])\n",
    "        if extracted is not None:\n",
    "            alias_found = Process.alias(extracted)\n",
    "            person_id = aliases[aliases.Alias.str.strip() == alias_found].PersonId.values\n",
    "            if len(person_id) == 1:\n",
    "                emails.iat[i, 2] = person_id[0]\n",
    "                counter_recover += 1\n",
    "print(\"We manage to recover %d out of %d NaN for the sender_id.\" % (counter_recover, counter_nan))"
   ]
  },
  {
   "cell_type": "code",
   "execution_count": 10,
   "metadata": {},
   "outputs": [
    {
     "name": "stdout",
     "output_type": "stream",
     "text": [
      "michele.flournoy\n",
      "Axelrod_D\n",
      "Terry.Duffy\n",
      "glantz.\n",
      "rosemarie.howe ;H\n",
      "cheryl.mills ;H\n",
      "rrh.interiors\n",
      "mh.interiors\n",
      "H;preines\n",
      "H;preines\n",
      "Abedin, Huma; H\n",
      "Abedin, Huma; H\n",
      "Ki-moon, Ban\n",
      "Sullivan, Jake; H\n",
      "Etats-Unis D'Amerique\n",
      "Etat-Unis D'Amerique\n",
      "Duk-soo, Han\n",
      "Duk-soo, Han\n",
      "Betsy.Ebeling\n",
      "***\n",
      "We manage to compute 7671 out of 7690 for the receiver_id.\n"
     ]
    }
   ],
   "source": [
    "# MetadataTo\n",
    "counter_not_nan = 0\n",
    "counter_recover = 0\n",
    "\n",
    "for i in range(emails.shape[0]):\n",
    "    if not isinstance(emails.MetadataTo[i], str):\n",
    "        continue\n",
    "    counter_not_nan += 1\n",
    "    alias = Process.alias(str(emails.MetadataTo[i]))\n",
    "    person_id = aliases[aliases.Alias.str.strip() == alias].PersonId.values\n",
    "    if len(person_id) == 1:\n",
    "        emails.iat[i, 3] = person_id[0]\n",
    "        counter_recover += 1\n",
    "    else:\n",
    "        print(emails.MetadataTo[i]) # could not match a person\n",
    "print('***')\n",
    "print(\"We manage to compute %d out of %d for the receiver_id.\" % (counter_recover, counter_not_nan))"
   ]
  },
  {
   "cell_type": "markdown",
   "metadata": {},
   "source": [
    "The `MetadataTo` field contains many `NaN`s and some elements (list above) could match a person. Hope is not lost because we can use extract this value from the `RawText` field."
   ]
  },
  {
   "cell_type": "code",
   "execution_count": 11,
   "metadata": {},
   "outputs": [],
   "source": [
    "emails.MetadataTo = pd.to_numeric(emails.MetadataTo, errors='coerce') # set NaN to string values"
   ]
  },
  {
   "cell_type": "code",
   "execution_count": null,
   "metadata": {},
   "outputs": [],
   "source": [
    "# TODO perform the same algorithm from 'to' we did for 'from'"
   ]
  },
  {
   "cell_type": "code",
   "execution_count": null,
   "metadata": {},
   "outputs": [],
   "source": [
    "# TODO the 'cc'."
   ]
  },
  {
   "cell_type": "markdown",
   "metadata": {},
   "source": [
    "## Text pre-processing"
   ]
  },
  {
   "cell_type": "markdown",
   "metadata": {},
   "source": [
    "Now that we have extracted the relevant information, it is time to clean the content. Since the database we have contains less than 10,000 emails, we need to preprocess the data in an effective way. We need to remove common words and common sentences which appear almost on each email. This is necessary when running marchine learning algorithm on it to get better result."
   ]
  },
  {
   "cell_type": "code",
   "execution_count": 12,
   "metadata": {},
   "outputs": [],
   "source": [
    "emails['content'] = emails.RawText.map(Process.content)"
   ]
  },
  {
   "cell_type": "code",
   "execution_count": 16,
   "metadata": {},
   "outputs": [
    {
     "name": "stdout",
     "output_type": "stream",
     "text": [
      "b6 part b6 h hrod17 clintonemail com thursday january 5 2012 5 22 pm b6 h latest intel libyan conflicts leaders militias sid thanks always happy new year confidential january 5 2012 hrc libyan leadership militias source sources direct access libyan national transitional council well highest levels european governments western intelligence security services 1 last week december 2011 first week 2012 libya prime minister abdurrahim el keib president mustafa abdul jalil engaged series emergency planning meetings attempting deal specific issues threatening stability new national transitional council ntc government according extremely sensitive sources speaking strict confidence paramount among issues questions disarming rewarding regional militias bore majority fighting regime muammar al qaddafi well related issue finding ministers senior administrators new government acceptable revolutionary forces individuals noted four occasions beginning december 23 2011 groups angry militiamen came el keib office demanded better treatment clear message support role islamic law removal former qaddafi advisors new government 2 source comment opinion sensitive source el keib genuinely concerned situation could spiral control threatens regime also suspects much unrest stirred general abdel hakim alamin belhaj conservative islamist supporters staying new government belhaj established position criticize actions appointments without concern control said el keib told contacts moslem brotherhood mb even belhaj surprised unrest militias begun manifest fighting groups previously shared goals operated belhaj loose command particularly true case increasingly violent conflicts misrata zintan regional militias 3 effort address problems el keib making changes new administration removing minister economics taher sherkaz former economic advisor qaddafi particular target militiamen opinion well informed individuals el keib closest influential advisors experts economic backgrounds experience dealing western firms governments influential group minister oil abdulrahman ben yezza minister finance hassan ziglam national oil company chief nuni berrusien ngeb obeda libyan stock exchange 4 source comment opinion sensitive source el keib jalil also concerned growing criticism technocrats puppets various western governments firms belhaj militiamen appear intent limiting influence western entities using weapon weaken el keib regime trend also affecting national security despite el keib efforts maintain balance islamists regional commanders national army potentially dangerous conflict arisen position chief staff national army el kieb according individual believes must settle matter short order avoid provoking security concerns among foreign allies businesses contacts 5 according knowledgeable individual late december 2011e1 kieb resisted efforts general khalifa belqasim haftar establish chief staff national army haftar lived united states many years believed belhaj others relationship u government using popularity among officer corps regular ntc army support claim chief staff produced heated protests militia leaders late december 2011e1 keib named deputy minister defense colonel yussef al mangoush chief staff opinion one source problematic choice since el keib replacing supposedly pro american haftar al mangoush commanded one qaddafi elite special forces units even revolution began individual believes el keib decision driven personal animosity toward haftar influence minister defense osama al juwali situation far resolved haftar supporters particularly benghazi garrison continue claim general true chief staff el keib al juwali working reconcile elements conflict quickly possible supporters two claimants begin fighting meantime el keib stated private fully expects belhaj attack al mangoush prime minister believes colonel officer strong enough disarm militias avoid civil war 6 time sensitive source added el keib jalil attempting reconcile fighting misrata zintan forces tripoli naming misrata leader fawzi abd ali minister interior al juwali commander zintan militia minister defense date according individual effort met limited success fighting continued militias refusing disarm demands regarding living standards met 7 source comment one sensitive source noted el keib aware fact running time stabilize situation libya believes disarm militias meet demands next six months good chance increased fighting among rival groups could lead civil war event realizes ongoing instability cause western governments firms banks hesitate committing long term relationships libya el keib believes belhaj advisors made judgment waiting fill vacuum created violence establishing conservative islamic republic\n",
      "***\n",
      "B6\n",
      "UNCLASSIFIED\n",
      "U.S. Department of State\n",
      "Case No. F-2015-04841\n",
      "Doc No. C05739796\n",
      "Date: 05/13/2015\n",
      "STATE DEPT. - PRODUCED TO HOUSE SELECT BENGHAZI COMM.\n",
      "SUBJECT TO AGREEMENT ON SENSITIVE INFORMATION & REDACTIONS. NO FOIA WAIVER.\n",
      "RELEASE IN\n",
      "PART B6\n",
      "From:\n",
      "Sent:\n",
      "To:\n",
      "Subject:\n",
      "H <hrod17@clintonemail.com>\n",
      "Thursday January 5 2012 5:22 PM\n",
      "B6\n",
      "Re: H: latest intel libyan conflicts, leaders & militias. Sid\n",
      "Thanks, as always, and Happy New Year!\n",
      "_\n",
      "From:\n",
      "Sent: Thursday, January 05, 2012 12:26 PM\n",
      "To: H\n",
      "Subject: H: latest Intel libyan conflicts, leaders & militias. Sid\n",
      "CONFIDENTIAL\n",
      "January 5, 2012\n",
      "For: HRC\n",
      "From: Sid\n",
      "Re: Libyan leadership and militias\n",
      "SOURCE: Sources with direct access to the Libyan National Transitional Council, as well as the\n",
      "highest levels of European Governments, and Western Intelligence and security services.\n",
      "1. During the last week of December 2011, and the first week of 2012, Libya's Prime Minister\n",
      "Abdurrahim el-Keib and President Mustafa Abdul Jalil engaged in a series of emergency planning\n",
      "meetings attempting to deal with specific issues threatening the stability of the new National\n",
      "Transitional Council (NTC) Government. According to extremely sensitive sources speaking in strict\n",
      "confidence, paramount among these issues are the questions of disarming and rewarding the regional\n",
      "militias who bore the majority of the fighting against the regime of Muammar al Qaddafi, as well as\n",
      "the related issue of finding ministers and senior administrators for the new government who are\n",
      "acceptable to these revolutionary forces. These individuals noted that on four occasions, beginning on\n",
      "December 23, 2011, groups or angry militiamen came to el-Keib's office and demanded better\n",
      "treatment, a clear message of support for the role of Islamic law, and the removal of former Qaddafi\n",
      "advisors from the new government.\n",
      "2. (Source Comment: In the opinion of a very sensitive source, el-Keib is genuinely concerned\n",
      "that this situation could spiral out of control and threatens the regime. He also suspects that much of\n",
      "the unrest is being stirred by General Abdel Hakim Alamin Belhaj and his conservative Islamist\n",
      "supporters. By staying out of the new government, Belhaj has established a position from which he\n",
      "can criticize their actions and appointments without concern or control. That said, el — Keib has been\n",
      "told by his contacts in the Moslem Brotherhood (MB) that even Belhaj has been surprised that the\n",
      "UNCLASSIFIED\n",
      "U.S. Department of State\n",
      "Case No. F-2015-04841\n",
      "Doc No. C05739796 STATE DEPT. - PRODUCED TO HOUSE SELECT BENGHAZI COMM.\n",
      "Date: 05/13/2015 SUBJECT TO AGREEMENT ON SENSITIVE INFORMATION & REDACTIONS. NO FOIA WAIVER. STATE-SCB0045115\n",
      "\f",
      "UNCLASSIFIED\n",
      "U.S. Department of State\n",
      "Case No. F-2015-04841\n",
      "Doc No. C05739796\n",
      "Date: 05/13/2015\n",
      "STATE DEPT. - PRODUCED TO HOUSE SELECT BENGHAZI COMM.\n",
      "SUBJECT TO AGREEMENT ON SENSITIVE INFORMATION & REDACTIONS. NO FOIA WAIVER.\n",
      "unrest in the militias has begun to manifest itself in fighting between groups that previously shared\n",
      "the same goals and operated under Belhaj's loose command. This is particularly true in the case of\n",
      "the increasingly violent conflicts between the Misrata and Zintan regional militias.)\n",
      "3. In an effort to address these problems el-Keib is making changes in his new administration,\n",
      "removing Minister of Economics Taher Sherkaz, who, as a former economic advisor to Qaddafi, was a\n",
      "particular target of the militiamen. In the opinion of well informed individuals, el-Keib's closest and\n",
      "most influential advisors are experts with economic backgrounds and experience dealing with\n",
      "Western firms and governments. The most influential of this group are Minister of Oil Abdulrahman\n",
      "Ben Yezza, Minister of Finance Hassan Ziglam, National Oil Company chief Nuni Berrusien, and Ngeb\n",
      "Obeda from the Libyan Stock Exchange.\n",
      "4. (Source Comment: In the opinion of a very sensitive source, el-Keib and Jalil are also very\n",
      "concerned over growing criticism that these technocrats are puppets of various Western governments\n",
      "and firms. Belhaj and the militiamen appear intent on limiting the influence of these Western\n",
      "entities, using them as a weapon to weaken the el-Keib regime. This trend is also affecting national\n",
      "security, where, despite el-Keib's efforts to maintain a balance between the Islamists, regional\n",
      "commanders, and the national army, a potentially dangerous conflict has arisen over the position of\n",
      "Chief of Staff of the National Army. El-Kieb, according to this individual, believes that he must settle\n",
      "this matter in short order to avoid provoking security concerns among foreign allies and businesses\n",
      "contacts.)\n",
      "5. According to a knowledgeable individual, in late December 2011e1-Kieb resisted efforts by\n",
      "General Khalifa Belqasim Haftar to establish himself as the Chief of Staff of the National Army.\n",
      "Haftar, who lived in the United States for many years and is believed by Belhaj and others to have a\n",
      "relationship with the U.S. Government, is using his popularity among the officer corps of the regular\n",
      "NTC army to support his claim to be Chief of Staff. This produced heated protests from militia\n",
      "leaders and in late December 2011e1-Keib named deputy Minister of Defense Colonel Yussef al-\n",
      "Mangoush, to be Chief of Staff. In the opinion of one source, this is a problematic choice, since el-\n",
      "Keib is replacing the supposedly pro-American Haftar with al-Mangoush who commanded one of\n",
      "Qaddafi's elite Special Forces units, even after the revolution began. This individual believes that el-\n",
      "Keib's decision was driven by personal animosity toward Haftar, and the influence of Minister of\n",
      "Defense Osama al-Juwali. The situation is far from resolved, as Haftar and his supporters,\n",
      "particularly in the Benghazi garrison, continue to claim that the General is the true Chief of Staff. El-\n",
      "Keib and al-Juwali are working to reconcile all of the elements in this conflict as quickly as possible,\n",
      "before the supporters of the two claimants begin fighting. In the meantime, el-Keib has stated in\n",
      "private that he fully expects Belhaj to attack al-Mangoush, but the Prime Minister believes that the\n",
      "Colonel is the only officer strong enough to disarm the militias and avoid a civil war.\n",
      "6. At the same time, a very sensitive source added that el-Keib and Jalil are attempting to\n",
      "reconcile the fighting between Misrata and Zintan forces in Tripoli by naming Misrata leader Fawzi\n",
      "Abd Ali as Minister of the Interior and al-Juwali, who was commander of the Zintan militia, as\n",
      "Minister of Defense. To date, according to this individual, this effort has met with limited success, as\n",
      "the fighting has continued and the militias are refusing to disarm until their demands regarding living\n",
      "standards are met.\n",
      "7. (Source Comment: One very sensitive source noted, that el-Keib is aware of the fact that he\n",
      "is running out of time to stabilize the situation in Libya. He believes that if he does not disarm the\n",
      "militias and meet their demands in the next six months there is a good chance of increased fighting\n",
      "among rival groups that could lead to civil war. In any event, he realizes that the ongoing instability\n",
      "will cause Western governments, firms, and banks, to hesitate before committing themselves to long\n",
      "term relationships with Libya. El-Keib believes that Belhaj and his advisors have made the same\n",
      "judgment, and are waiting to fill any vacuum created by this violence, by establishing a conservative\n",
      "Islamic Republic.)\n",
      "UNCLASSIFIED\n",
      "U.S. Department of State\n",
      "Case No. F-2015-04841\n",
      "Doc No. C05739796\n",
      "Date: 05/13/2015\n",
      "STATE DEPT. - PRODUCED TO HOUSE SELECT BENGHAZI COMM.\n",
      "SUBJECT TO AGREEMENT ON SENSITIVE INFORMATION & REDACTIONS. NO FOIA WAIVER. STATE-SCB0045116\n",
      "\f",
      "\n"
     ]
    }
   ],
   "source": [
    "# testing results manually\n",
    "idx = 200\n",
    "print(emails.content[idx])\n",
    "print('***')\n",
    "print(emails.RawText[idx])"
   ]
  },
  {
   "cell_type": "markdown",
   "metadata": {},
   "source": [
    "## Augment Data\n",
    "\n",
    "We would like to classify the email into (not excluding) categories like Middle East, Europe... But we do not have this information. We need to create it on our own. In order to build the data, we will use a system based on keywords. We will use this data as a based before training a neural network. We hope the neural network will discover some pattern other than the keywords."
   ]
  },
  {
   "cell_type": "code",
   "execution_count": 20,
   "metadata": {},
   "outputs": [],
   "source": [
    "emails['africa'] = emails.content.map(lambda content: Extractor.earth_area(content, \"africa\"))\n",
    "emails['central_asia'] = emails.content.map(lambda content: Extractor.earth_area(content, \"central_asia\"))\n",
    "emails['europe'] = emails.content.map(lambda content: Extractor.earth_area(content, \"europe\"))\n",
    "emails['far_east'] = emails.content.map(lambda content: Extractor.earth_area(content, \"far_east\"))\n",
    "emails['middle_east'] = emails.content.map(lambda content: Extractor.earth_area(content, \"middle_east\"))\n",
    "emails['latino'] = emails.content.map(lambda content: Extractor.earth_area(content, \"latino\"))\n",
    "emails['north_america'] = emails.content.map(lambda content: Extractor.earth_area(content, \"north_america\"))\n",
    "emails['russia'] = emails.content.map(lambda content: Extractor.earth_area(content, \"russia\"))"
   ]
  },
  {
   "cell_type": "code",
   "execution_count": 21,
   "metadata": {},
   "outputs": [
    {
     "data": {
      "text/html": [
       "<div>\n",
       "<style scoped>\n",
       "    .dataframe tbody tr th:only-of-type {\n",
       "        vertical-align: middle;\n",
       "    }\n",
       "\n",
       "    .dataframe tbody tr th {\n",
       "        vertical-align: top;\n",
       "    }\n",
       "\n",
       "    .dataframe thead th {\n",
       "        text-align: right;\n",
       "    }\n",
       "</style>\n",
       "<table border=\"1\" class=\"dataframe\">\n",
       "  <thead>\n",
       "    <tr style=\"text-align: right;\">\n",
       "      <th></th>\n",
       "      <th>Id</th>\n",
       "      <th>MetadataSubject</th>\n",
       "      <th>SenderPersonId</th>\n",
       "      <th>MetadataTo</th>\n",
       "      <th>ExtractedCc</th>\n",
       "      <th>MetadataDateSent</th>\n",
       "      <th>MetadataDateReleased</th>\n",
       "      <th>MetadataCaseNumber</th>\n",
       "      <th>MetadataDocumentClass</th>\n",
       "      <th>RawText</th>\n",
       "      <th>content</th>\n",
       "      <th>africa</th>\n",
       "      <th>central_asia</th>\n",
       "      <th>europe</th>\n",
       "      <th>far_east</th>\n",
       "      <th>middle_east</th>\n",
       "      <th>latino</th>\n",
       "      <th>north_america</th>\n",
       "      <th>russia</th>\n",
       "    </tr>\n",
       "  </thead>\n",
       "  <tbody>\n",
       "    <tr>\n",
       "      <th>0</th>\n",
       "      <td>1</td>\n",
       "      <td>WOW</td>\n",
       "      <td>87.0</td>\n",
       "      <td>80.0</td>\n",
       "      <td>NaN</td>\n",
       "      <td>2012-09-12 04:00:00</td>\n",
       "      <td>2015-05-22 04:00:00</td>\n",
       "      <td>F-2015-04841</td>\n",
       "      <td>HRC_Email_296</td>\n",
       "      <td>UNCLASSIFIED\\nU.S. Department of State\\nCase N...</td>\n",
       "      <td>wonderful strong moving statement boss please ...</td>\n",
       "      <td>False</td>\n",
       "      <td>False</td>\n",
       "      <td>False</td>\n",
       "      <td>False</td>\n",
       "      <td>False</td>\n",
       "      <td>False</td>\n",
       "      <td>False</td>\n",
       "      <td>False</td>\n",
       "    </tr>\n",
       "    <tr>\n",
       "      <th>1</th>\n",
       "      <td>2</td>\n",
       "      <td>H: LATEST: HOW SYRIA IS AIDING QADDAFI AND MOR...</td>\n",
       "      <td>194.0</td>\n",
       "      <td>80.0</td>\n",
       "      <td>NaN</td>\n",
       "      <td>2011-03-03 05:00:00</td>\n",
       "      <td>2015-05-22 04:00:00</td>\n",
       "      <td>F-2015-04841</td>\n",
       "      <td>HRC_Email_296</td>\n",
       "      <td>UNCLASSIFIED\\nU.S. Department of State\\nCase N...</td>\n",
       "      <td>part b6 attachments b6 thursday march 3 2011 9...</td>\n",
       "      <td>True</td>\n",
       "      <td>False</td>\n",
       "      <td>True</td>\n",
       "      <td>False</td>\n",
       "      <td>True</td>\n",
       "      <td>False</td>\n",
       "      <td>False</td>\n",
       "      <td>True</td>\n",
       "    </tr>\n",
       "    <tr>\n",
       "      <th>2</th>\n",
       "      <td>3</td>\n",
       "      <td>CHRIS STEVENS</td>\n",
       "      <td>32.0</td>\n",
       "      <td>80.0</td>\n",
       "      <td>Abedin, Huma</td>\n",
       "      <td>2012-09-12 04:00:00</td>\n",
       "      <td>2015-05-22 04:00:00</td>\n",
       "      <td>F-2015-04841</td>\n",
       "      <td>HRC_Email_296</td>\n",
       "      <td>UNCLASSIFIED\\nU.S. Department of State\\nCase N...</td>\n",
       "      <td>part b6 thx original message soldiers thinking...</td>\n",
       "      <td>False</td>\n",
       "      <td>False</td>\n",
       "      <td>False</td>\n",
       "      <td>False</td>\n",
       "      <td>False</td>\n",
       "      <td>False</td>\n",
       "      <td>False</td>\n",
       "      <td>False</td>\n",
       "    </tr>\n",
       "    <tr>\n",
       "      <th>3</th>\n",
       "      <td>4</td>\n",
       "      <td>CAIRO CONDEMNATION - FINAL</td>\n",
       "      <td>32.0</td>\n",
       "      <td>80.0</td>\n",
       "      <td>Mitchell, Andrew B</td>\n",
       "      <td>2012-09-12 04:00:00</td>\n",
       "      <td>2015-05-22 04:00:00</td>\n",
       "      <td>F-2015-04841</td>\n",
       "      <td>HRC_Email_296</td>\n",
       "      <td>UNCLASSIFIED\\nU.S. Department of State\\nCase N...</td>\n",
       "      <td>b5 b5 fyi shea peter ads aaron snipe spokesper...</td>\n",
       "      <td>False</td>\n",
       "      <td>False</td>\n",
       "      <td>False</td>\n",
       "      <td>False</td>\n",
       "      <td>False</td>\n",
       "      <td>False</td>\n",
       "      <td>False</td>\n",
       "      <td>False</td>\n",
       "    </tr>\n",
       "    <tr>\n",
       "      <th>4</th>\n",
       "      <td>5</td>\n",
       "      <td>H: LATEST: HOW SYRIA IS AIDING QADDAFI AND MOR...</td>\n",
       "      <td>80.0</td>\n",
       "      <td>81.0</td>\n",
       "      <td>NaN</td>\n",
       "      <td>2011-03-11 05:00:00</td>\n",
       "      <td>2015-05-22 04:00:00</td>\n",
       "      <td>F-2015-04841</td>\n",
       "      <td>HRC_Email_296</td>\n",
       "      <td>B6\\nUNCLASSIFIED\\nU.S. Department of State\\nCa...</td>\n",
       "      <td>b6 part b6 attachments h hrod17 clintonemail c...</td>\n",
       "      <td>True</td>\n",
       "      <td>False</td>\n",
       "      <td>True</td>\n",
       "      <td>False</td>\n",
       "      <td>True</td>\n",
       "      <td>False</td>\n",
       "      <td>False</td>\n",
       "      <td>True</td>\n",
       "    </tr>\n",
       "  </tbody>\n",
       "</table>\n",
       "</div>"
      ],
      "text/plain": [
       "   Id                                    MetadataSubject  SenderPersonId  \\\n",
       "0   1                                                WOW            87.0   \n",
       "1   2  H: LATEST: HOW SYRIA IS AIDING QADDAFI AND MOR...           194.0   \n",
       "2   3                                      CHRIS STEVENS            32.0   \n",
       "3   4                         CAIRO CONDEMNATION - FINAL            32.0   \n",
       "4   5  H: LATEST: HOW SYRIA IS AIDING QADDAFI AND MOR...            80.0   \n",
       "\n",
       "   MetadataTo         ExtractedCc    MetadataDateSent MetadataDateReleased  \\\n",
       "0        80.0                 NaN 2012-09-12 04:00:00  2015-05-22 04:00:00   \n",
       "1        80.0                 NaN 2011-03-03 05:00:00  2015-05-22 04:00:00   \n",
       "2        80.0        Abedin, Huma 2012-09-12 04:00:00  2015-05-22 04:00:00   \n",
       "3        80.0  Mitchell, Andrew B 2012-09-12 04:00:00  2015-05-22 04:00:00   \n",
       "4        81.0                 NaN 2011-03-11 05:00:00  2015-05-22 04:00:00   \n",
       "\n",
       "  MetadataCaseNumber MetadataDocumentClass  \\\n",
       "0       F-2015-04841         HRC_Email_296   \n",
       "1       F-2015-04841         HRC_Email_296   \n",
       "2       F-2015-04841         HRC_Email_296   \n",
       "3       F-2015-04841         HRC_Email_296   \n",
       "4       F-2015-04841         HRC_Email_296   \n",
       "\n",
       "                                             RawText  \\\n",
       "0  UNCLASSIFIED\\nU.S. Department of State\\nCase N...   \n",
       "1  UNCLASSIFIED\\nU.S. Department of State\\nCase N...   \n",
       "2  UNCLASSIFIED\\nU.S. Department of State\\nCase N...   \n",
       "3  UNCLASSIFIED\\nU.S. Department of State\\nCase N...   \n",
       "4  B6\\nUNCLASSIFIED\\nU.S. Department of State\\nCa...   \n",
       "\n",
       "                                             content  africa  central_asia  \\\n",
       "0  wonderful strong moving statement boss please ...   False         False   \n",
       "1  part b6 attachments b6 thursday march 3 2011 9...    True         False   \n",
       "2  part b6 thx original message soldiers thinking...   False         False   \n",
       "3  b5 b5 fyi shea peter ads aaron snipe spokesper...   False         False   \n",
       "4  b6 part b6 attachments h hrod17 clintonemail c...    True         False   \n",
       "\n",
       "   europe  far_east  middle_east  latino  north_america  russia  \n",
       "0   False     False        False   False          False   False  \n",
       "1    True     False         True   False          False    True  \n",
       "2   False     False        False   False          False   False  \n",
       "3   False     False        False   False          False   False  \n",
       "4    True     False         True   False          False    True  "
      ]
     },
     "execution_count": 21,
     "metadata": {},
     "output_type": "execute_result"
    }
   ],
   "source": [
    "emails.head()"
   ]
  },
  {
   "cell_type": "markdown",
   "metadata": {},
   "source": [
    "**Comment:** The result looks good but we surely need to do more on cleaning. For example, we the 'B6' almost everywhere."
   ]
  },
  {
   "cell_type": "markdown",
   "metadata": {},
   "source": [
    "## Network Analysis"
   ]
  }
 ],
 "metadata": {
  "kernelspec": {
   "display_name": "Python 3",
   "language": "python",
   "name": "python3"
  },
  "language_info": {
   "codemirror_mode": {
    "name": "ipython",
    "version": 3
   },
   "file_extension": ".py",
   "mimetype": "text/x-python",
   "name": "python",
   "nbconvert_exporter": "python",
   "pygments_lexer": "ipython3",
   "version": "3.6.6"
  }
 },
 "nbformat": 4,
 "nbformat_minor": 2
}
