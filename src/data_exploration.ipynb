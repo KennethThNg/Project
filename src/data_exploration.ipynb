{
 "cells": [
  {
   "cell_type": "markdown",
   "metadata": {},
   "source": [
    "# Official public work with private tools"
   ]
  },
  {
   "cell_type": "markdown",
   "metadata": {},
   "source": [
    "The controversy of Hilary Clinton's email hit the headlines in 2015. The goal of this project is to get a precise view of her network based on the emails publicly available on [Kaggle](https://www.kaggle.com/kaggle/hillary-clinton-emails). Unfortunately, the database is dirty as anyone could expect. Our work will be divided into the following tasks:\n",
    "\n",
    "1. Clean the data and recover\n",
    "2. Enrich the data\n",
    "3. maybe go back to 1\n",
    "\n",
    "At this point, drawing a basic graph should be possible.\n",
    "\n",
    "4. Develop a system to cluster a document into a category\n",
    "5. Show these categories in the final graph.\n",
    "\n",
    "We remind that the goal of this milestone is as follows:\n",
    "\n",
    "1. Handle the data in its size.\n",
    "\n",
    "2. Understand the data (formats, distribution, missing values, correlations, etc.)\n",
    "\n",
    "3. Consider a way to enrich, filter, transform the data according to your needs.\n",
    "\n",
    "4. Update our plan in a reasonable way:\n",
    "    \n",
    "    4.1. Reflecting our improved knowledge after data acquaintance\n",
    "    \n",
    "    4.2. Discuss how your data suits our project needs \n",
    "    \n",
    "    4.3. Discuss the methods that we will use, and provide the essential mathematical details\n",
    "    \n",
    "5. Show that the plan for analysis is reasonable, discussed considered choices but finally dropped\n",
    "\n",
    "\n",
    "## Previously\n",
    "\n",
    "As discussed in the first Milestone, we expected data cleaning, including text processing, handling missing values etc. as a major task of the Milestone. We considered that about 60-80% of our task (in the golbal Milestone) will be this. Without any surprise, we remark this expectation to be true. Indeed, database is dirty, really dirty... Although a lot of preprocess seemed to have been already done from the `rawText` of the `emails` database, we remark the latter to have been really poor. For example, in order to construct the Hillary's Network we need the exact `receiver` and `sender` of any emails. We remark some obvious mistakes in the Aliases correspondance with the personId for example. We explain deeper below the major difficulty that we have encountered and how we have finally handled them.\n",
    "\n",
    "As said above, this Milestone focuses essentially on data cleaning and preprocess of rawText. Moreover, according to the questions and tasks we expect to provide, we have to clean and process data for the following features:\n",
    "\n",
    "1. 'To' and 'From' (who receives and sends emails)\n",
    "\n",
    "2. 'Date' (precise date of emails sending)\n",
    "\n",
    "3. Extract content of emails (as good as possible) before preprocessing and cleaning\n",
    "\n",
    "These three steps are crucial.\n",
    "\n",
    "## Plan\n",
    "\n",
    "1. Data exploration \n",
    "\n",
    "    1.1. how are `aliases` and `personId` related? \n",
    "\n",
    "    1.2. how clean are `MetaDataTo` ('To') and `MetaDataFrom` ('From')? are there missing values? \n",
    "    \n",
    "    1.3. what is the behaviour of the content of `rawText`? (is it messy, multi-emails, etc)\n",
    "        \n",
    "2. Data Cleaning and Processing\n",
    "\n",
    "    2.1. Clean the `aliases` and `personId` relation\n",
    "    \n",
    "    2.2. Construction clean `To` and `From` features by processing and NaN filling\n",
    "    \n",
    "    2.3. Text cleaning for `rawText` (remove inappropriate lines)\n",
    "    \n",
    "    2.4. Text processing (lowcase, remove stopwords, remove short sentences, stemmatization, etc)\n",
    "    \n",
    "    2.5. Features engineering \n",
    "           \n",
    "        2.5.0. Emails time distribution\n",
    "\n",
    "        2.5.1. Map emails to countries/regions\n",
    "        \n",
    "        2.5.2. Word-frequency\n",
    "        \n",
    "        2.5.3. Research of thematics\n",
    "        \n",
    "3. Pre-results\n",
    "\n",
    "    3.1. Adjacency matrix (Hillary's network) construction\n",
    "    \n",
    "    .....\n",
    "        \n",
    "3. Milestone 3, to be done: graph visu, map visu, \n",
    "\n",
    "\n",
    "## Data exploration"
   ]
  },
  {
   "cell_type": "code",
   "execution_count": 1,
   "metadata": {},
   "outputs": [],
   "source": [
    "import numpy as np\n",
    "import pandas as pd\n",
    "import matplotlib.pyplot as plt\n",
    "import nltk, re, string ,collections\n",
    "from nltk.util import ngrams\n",
    "from nltk.tokenize import word_tokenize\n",
    "from datetime import datetime, date, time\n",
    "from gensim.models import Word2Vec\n",
    "from sklearn.decomposition import PCA\n",
    "\n",
    "from extractor import Extractor\n",
    "from process import Process\n",
    "from analyse import Analyse\n",
    "from scipy.cluster.hierarchy import ward, dendrogram\n",
    "from sklearn.feature_extraction.text import TfidfVectorizer, CountVectorizer\n",
    "from sklearn.metrics.pairwise import cosine_similarity\n",
    "\n",
    "pd.options.mode.chained_assignment = None  # default='warn', Mutes warnings when copying a slice from a DataFrame."
   ]
  },
  {
   "cell_type": "code",
   "execution_count": 2,
   "metadata": {},
   "outputs": [],
   "source": [
    "data_folder = \"../data/\""
   ]
  },
  {
   "cell_type": "markdown",
   "metadata": {},
   "source": [
    "The data is available in two formats: csv and sql. This means that the elements are somehow related. We will see later that the entity relationship diagram is not as it should have been done."
   ]
  },
  {
   "cell_type": "code",
   "execution_count": 3,
   "metadata": {},
   "outputs": [],
   "source": [
    "#Data extraction from the csv-files\n",
    "emails_raw = pd.read_csv(data_folder + 'Emails.csv')\n",
    "persons = pd.read_csv(data_folder + 'Persons.csv')\n",
    "aliases = pd.read_csv(data_folder + 'Aliases.csv')\n",
    "email_receivers = pd.read_csv(data_folder + 'EmailReceivers.csv')"
   ]
  },
  {
   "cell_type": "code",
   "execution_count": 4,
   "metadata": {},
   "outputs": [
    {
     "name": "stdout",
     "output_type": "stream",
     "text": [
      "emails: (7945, 22)\n",
      "persons: (513, 2)\n",
      "aliases: (850, 3)\n",
      "email receivers: (9306, 3)\n"
     ]
    }
   ],
   "source": [
    "print(\"emails:\", emails_raw.shape)\n",
    "print(\"persons:\", persons.shape)\n",
    "print(\"aliases:\", aliases.shape)\n",
    "print(\"email receivers:\", email_receivers.shape)"
   ]
  },
  {
   "cell_type": "markdown",
   "metadata": {},
   "source": [
    "For the moment, let's discover what we have. Extraction was performed according to some fields. Let us check whether or not we can rely on it."
   ]
  },
  {
   "cell_type": "code",
   "execution_count": 5,
   "metadata": {},
   "outputs": [
    {
     "data": {
      "text/html": [
       "<div>\n",
       "<style scoped>\n",
       "    .dataframe tbody tr th:only-of-type {\n",
       "        vertical-align: middle;\n",
       "    }\n",
       "\n",
       "    .dataframe tbody tr th {\n",
       "        vertical-align: top;\n",
       "    }\n",
       "\n",
       "    .dataframe thead th {\n",
       "        text-align: right;\n",
       "    }\n",
       "</style>\n",
       "<table border=\"1\" class=\"dataframe\">\n",
       "  <thead>\n",
       "    <tr style=\"text-align: right;\">\n",
       "      <th></th>\n",
       "      <th>Id</th>\n",
       "      <th>Name</th>\n",
       "    </tr>\n",
       "  </thead>\n",
       "  <tbody>\n",
       "    <tr>\n",
       "      <th>0</th>\n",
       "      <td>1</td>\n",
       "      <td>111th Congress</td>\n",
       "    </tr>\n",
       "    <tr>\n",
       "      <th>1</th>\n",
       "      <td>2</td>\n",
       "      <td>AGNA USEMB Kabul Afghanistan</td>\n",
       "    </tr>\n",
       "    <tr>\n",
       "      <th>2</th>\n",
       "      <td>3</td>\n",
       "      <td>AP</td>\n",
       "    </tr>\n",
       "    <tr>\n",
       "      <th>3</th>\n",
       "      <td>4</td>\n",
       "      <td>ASUNCION</td>\n",
       "    </tr>\n",
       "    <tr>\n",
       "      <th>4</th>\n",
       "      <td>5</td>\n",
       "      <td>Alec</td>\n",
       "    </tr>\n",
       "  </tbody>\n",
       "</table>\n",
       "</div>"
      ],
      "text/plain": [
       "   Id                          Name\n",
       "0   1                111th Congress\n",
       "1   2  AGNA USEMB Kabul Afghanistan\n",
       "2   3                            AP\n",
       "3   4                      ASUNCION\n",
       "4   5                          Alec"
      ]
     },
     "execution_count": 5,
     "metadata": {},
     "output_type": "execute_result"
    }
   ],
   "source": [
    "persons.head()"
   ]
  },
  {
   "cell_type": "code",
   "execution_count": 6,
   "metadata": {},
   "outputs": [
    {
     "data": {
      "text/plain": [
       "Id       int64\n",
       "Name    object\n",
       "dtype: object"
      ]
     },
     "execution_count": 6,
     "metadata": {},
     "output_type": "execute_result"
    }
   ],
   "source": [
    "persons.dtypes"
   ]
  },
  {
   "cell_type": "code",
   "execution_count": 7,
   "metadata": {},
   "outputs": [
    {
     "data": {
      "text/html": [
       "<div>\n",
       "<style scoped>\n",
       "    .dataframe tbody tr th:only-of-type {\n",
       "        vertical-align: middle;\n",
       "    }\n",
       "\n",
       "    .dataframe tbody tr th {\n",
       "        vertical-align: top;\n",
       "    }\n",
       "\n",
       "    .dataframe thead th {\n",
       "        text-align: right;\n",
       "    }\n",
       "</style>\n",
       "<table border=\"1\" class=\"dataframe\">\n",
       "  <thead>\n",
       "    <tr style=\"text-align: right;\">\n",
       "      <th></th>\n",
       "      <th>Id</th>\n",
       "      <th>Alias</th>\n",
       "      <th>PersonId</th>\n",
       "    </tr>\n",
       "  </thead>\n",
       "  <tbody>\n",
       "    <tr>\n",
       "      <th>0</th>\n",
       "      <td>1</td>\n",
       "      <td>111th congress</td>\n",
       "      <td>1</td>\n",
       "    </tr>\n",
       "    <tr>\n",
       "      <th>1</th>\n",
       "      <td>2</td>\n",
       "      <td>agna usemb kabul afghanistan</td>\n",
       "      <td>2</td>\n",
       "    </tr>\n",
       "    <tr>\n",
       "      <th>2</th>\n",
       "      <td>3</td>\n",
       "      <td>ap</td>\n",
       "      <td>3</td>\n",
       "    </tr>\n",
       "    <tr>\n",
       "      <th>3</th>\n",
       "      <td>4</td>\n",
       "      <td>asuncion</td>\n",
       "      <td>4</td>\n",
       "    </tr>\n",
       "    <tr>\n",
       "      <th>4</th>\n",
       "      <td>5</td>\n",
       "      <td>alec</td>\n",
       "      <td>5</td>\n",
       "    </tr>\n",
       "  </tbody>\n",
       "</table>\n",
       "</div>"
      ],
      "text/plain": [
       "   Id                         Alias  PersonId\n",
       "0   1                111th congress         1\n",
       "1   2  agna usemb kabul afghanistan         2\n",
       "2   3                            ap         3\n",
       "3   4                      asuncion         4\n",
       "4   5                          alec         5"
      ]
     },
     "execution_count": 7,
     "metadata": {},
     "output_type": "execute_result"
    }
   ],
   "source": [
    "aliases.head()"
   ]
  },
  {
   "cell_type": "code",
   "execution_count": 8,
   "metadata": {},
   "outputs": [
    {
     "data": {
      "text/plain": [
       "Id           int64\n",
       "Alias       object\n",
       "PersonId     int64\n",
       "dtype: object"
      ]
     },
     "execution_count": 8,
     "metadata": {},
     "output_type": "execute_result"
    }
   ],
   "source": [
    "aliases.dtypes"
   ]
  },
  {
   "cell_type": "markdown",
   "metadata": {},
   "source": [
    "## 1.1. how are `aliases` and `personId` related?"
   ]
  },
  {
   "cell_type": "code",
   "execution_count": 9,
   "metadata": {},
   "outputs": [
    {
     "data": {
      "text/html": [
       "<div>\n",
       "<style scoped>\n",
       "    .dataframe tbody tr th:only-of-type {\n",
       "        vertical-align: middle;\n",
       "    }\n",
       "\n",
       "    .dataframe tbody tr th {\n",
       "        vertical-align: top;\n",
       "    }\n",
       "\n",
       "    .dataframe thead th {\n",
       "        text-align: right;\n",
       "    }\n",
       "</style>\n",
       "<table border=\"1\" class=\"dataframe\">\n",
       "  <thead>\n",
       "    <tr style=\"text-align: right;\">\n",
       "      <th></th>\n",
       "      <th>Id</th>\n",
       "      <th>Alias</th>\n",
       "      <th>PersonId</th>\n",
       "    </tr>\n",
       "  </thead>\n",
       "  <tbody>\n",
       "    <tr>\n",
       "      <th>0</th>\n",
       "      <td>1</td>\n",
       "      <td>111th congress</td>\n",
       "      <td>1</td>\n",
       "    </tr>\n",
       "    <tr>\n",
       "      <th>1</th>\n",
       "      <td>2</td>\n",
       "      <td>agna usemb kabul afghanistan</td>\n",
       "      <td>2</td>\n",
       "    </tr>\n",
       "    <tr>\n",
       "      <th>2</th>\n",
       "      <td>3</td>\n",
       "      <td>ap</td>\n",
       "      <td>3</td>\n",
       "    </tr>\n",
       "    <tr>\n",
       "      <th>3</th>\n",
       "      <td>4</td>\n",
       "      <td>asuncion</td>\n",
       "      <td>4</td>\n",
       "    </tr>\n",
       "    <tr>\n",
       "      <th>4</th>\n",
       "      <td>5</td>\n",
       "      <td>alec</td>\n",
       "      <td>5</td>\n",
       "    </tr>\n",
       "    <tr>\n",
       "      <th>5</th>\n",
       "      <td>6</td>\n",
       "      <td>dupuy alex</td>\n",
       "      <td>6</td>\n",
       "    </tr>\n",
       "    <tr>\n",
       "      <th>6</th>\n",
       "      <td>7</td>\n",
       "      <td>american beverage association</td>\n",
       "      <td>7</td>\n",
       "    </tr>\n",
       "    <tr>\n",
       "      <th>7</th>\n",
       "      <td>8</td>\n",
       "      <td>mayock andrew</td>\n",
       "      <td>8</td>\n",
       "    </tr>\n",
       "    <tr>\n",
       "      <th>9</th>\n",
       "      <td>10</td>\n",
       "      <td>shapiroa@state.gov</td>\n",
       "      <td>9</td>\n",
       "    </tr>\n",
       "    <tr>\n",
       "      <th>8</th>\n",
       "      <td>9</td>\n",
       "      <td>shapiro andrew j</td>\n",
       "      <td>9</td>\n",
       "    </tr>\n",
       "    <tr>\n",
       "      <th>10</th>\n",
       "      <td>11</td>\n",
       "      <td>slaughter annmarie</td>\n",
       "      <td>10</td>\n",
       "    </tr>\n",
       "    <tr>\n",
       "      <th>11</th>\n",
       "      <td>12</td>\n",
       "      <td>slaughter anne marie</td>\n",
       "      <td>10</td>\n",
       "    </tr>\n",
       "    <tr>\n",
       "      <th>12</th>\n",
       "      <td>13</td>\n",
       "      <td>slaughter annemarie</td>\n",
       "      <td>10</td>\n",
       "    </tr>\n",
       "    <tr>\n",
       "      <th>13</th>\n",
       "      <td>14</td>\n",
       "      <td>slaughtera@state.gov</td>\n",
       "      <td>10</td>\n",
       "    </tr>\n",
       "    <tr>\n",
       "      <th>441</th>\n",
       "      <td>442</td>\n",
       "      <td>annemarie slaughter</td>\n",
       "      <td>10</td>\n",
       "    </tr>\n",
       "    <tr>\n",
       "      <th>14</th>\n",
       "      <td>15</td>\n",
       "      <td>lake anthony</td>\n",
       "      <td>11</td>\n",
       "    </tr>\n",
       "    <tr>\n",
       "      <th>15</th>\n",
       "      <td>16</td>\n",
       "      <td>valenzuela arturo a</td>\n",
       "      <td>12</td>\n",
       "    </tr>\n",
       "    <tr>\n",
       "      <th>16</th>\n",
       "      <td>17</td>\n",
       "      <td>valenzuelaaa@state.gov</td>\n",
       "      <td>12</td>\n",
       "    </tr>\n",
       "    <tr>\n",
       "      <th>17</th>\n",
       "      <td>18</td>\n",
       "      <td>kimoon ban</td>\n",
       "      <td>13</td>\n",
       "    </tr>\n",
       "    <tr>\n",
       "      <th>18</th>\n",
       "      <td>19</td>\n",
       "      <td>obama barack</td>\n",
       "      <td>14</td>\n",
       "    </tr>\n",
       "    <tr>\n",
       "      <th>19</th>\n",
       "      <td>20</td>\n",
       "      <td>president</td>\n",
       "      <td>14</td>\n",
       "    </tr>\n",
       "    <tr>\n",
       "      <th>20</th>\n",
       "      <td>21</td>\n",
       "      <td>bam@mikulski.senate.gov</td>\n",
       "      <td>15</td>\n",
       "    </tr>\n",
       "    <tr>\n",
       "      <th>21</th>\n",
       "      <td>22</td>\n",
       "      <td>mikulski bam</td>\n",
       "      <td>15</td>\n",
       "    </tr>\n",
       "    <tr>\n",
       "      <th>22</th>\n",
       "      <td>23</td>\n",
       "      <td>mikulski bam (mikulski)</td>\n",
       "      <td>15</td>\n",
       "    </tr>\n",
       "    <tr>\n",
       "      <th>23</th>\n",
       "      <td>24</td>\n",
       "      <td>mikulski bam (mitkulski)</td>\n",
       "      <td>15</td>\n",
       "    </tr>\n",
       "    <tr>\n",
       "      <th>24</th>\n",
       "      <td>25</td>\n",
       "      <td>mikulskibam (mikulski)</td>\n",
       "      <td>15</td>\n",
       "    </tr>\n",
       "    <tr>\n",
       "      <th>732</th>\n",
       "      <td>733</td>\n",
       "      <td>betsyebelin</td>\n",
       "      <td>16</td>\n",
       "    </tr>\n",
       "    <tr>\n",
       "      <th>28</th>\n",
       "      <td>29</td>\n",
       "      <td>betsyebeling1050</td>\n",
       "      <td>16</td>\n",
       "    </tr>\n",
       "    <tr>\n",
       "      <th>26</th>\n",
       "      <td>27</td>\n",
       "      <td>ebeling betsy</td>\n",
       "      <td>16</td>\n",
       "    </tr>\n",
       "    <tr>\n",
       "      <th>25</th>\n",
       "      <td>26</td>\n",
       "      <td>betsy.ebeling</td>\n",
       "      <td>16</td>\n",
       "    </tr>\n",
       "    <tr>\n",
       "      <th>...</th>\n",
       "      <td>...</td>\n",
       "      <td>...</td>\n",
       "      <td>...</td>\n",
       "    </tr>\n",
       "    <tr>\n",
       "      <th>811</th>\n",
       "      <td>812</td>\n",
       "      <td>sullivanij@state.gove</td>\n",
       "      <td>484</td>\n",
       "    </tr>\n",
       "    <tr>\n",
       "      <th>812</th>\n",
       "      <td>813</td>\n",
       "      <td>p rei n es</td>\n",
       "      <td>485</td>\n",
       "    </tr>\n",
       "    <tr>\n",
       "      <th>813</th>\n",
       "      <td>814</td>\n",
       "      <td>imuscatine huma abedin b6</td>\n",
       "      <td>486</td>\n",
       "    </tr>\n",
       "    <tr>\n",
       "      <th>814</th>\n",
       "      <td>815</td>\n",
       "      <td>tillemannts@state.gov.</td>\n",
       "      <td>487</td>\n",
       "    </tr>\n",
       "    <tr>\n",
       "      <th>816</th>\n",
       "      <td>817</td>\n",
       "      <td>markjpenr</td>\n",
       "      <td>488</td>\n",
       "    </tr>\n",
       "    <tr>\n",
       "      <th>817</th>\n",
       "      <td>818</td>\n",
       "      <td>dad mom</td>\n",
       "      <td>489</td>\n",
       "    </tr>\n",
       "    <tr>\n",
       "      <th>818</th>\n",
       "      <td>819</td>\n",
       "      <td>vaimorou@state.gov</td>\n",
       "      <td>490</td>\n",
       "    </tr>\n",
       "    <tr>\n",
       "      <th>819</th>\n",
       "      <td>820</td>\n",
       "      <td>prein6</td>\n",
       "      <td>491</td>\n",
       "    </tr>\n",
       "    <tr>\n",
       "      <th>820</th>\n",
       "      <td>821</td>\n",
       "      <td>sullivanjj@state.goy</td>\n",
       "      <td>492</td>\n",
       "    </tr>\n",
       "    <tr>\n",
       "      <th>821</th>\n",
       "      <td>822</td>\n",
       "      <td>. vermarr@state.gov</td>\n",
       "      <td>493</td>\n",
       "    </tr>\n",
       "    <tr>\n",
       "      <th>822</th>\n",
       "      <td>823</td>\n",
       "      <td>sullivanjj@siate.gov</td>\n",
       "      <td>494</td>\n",
       "    </tr>\n",
       "    <tr>\n",
       "      <th>824</th>\n",
       "      <td>825</td>\n",
       "      <td>feldman daniel f</td>\n",
       "      <td>495</td>\n",
       "    </tr>\n",
       "    <tr>\n",
       "      <th>825</th>\n",
       "      <td>826</td>\n",
       "      <td>ruggiero frank 3</td>\n",
       "      <td>496</td>\n",
       "    </tr>\n",
       "    <tr>\n",
       "      <th>826</th>\n",
       "      <td>827</td>\n",
       "      <td>singh vikram</td>\n",
       "      <td>497</td>\n",
       "    </tr>\n",
       "    <tr>\n",
       "      <th>827</th>\n",
       "      <td>828</td>\n",
       "      <td>.filotylc@state.gov.</td>\n",
       "      <td>498</td>\n",
       "    </tr>\n",
       "    <tr>\n",
       "      <th>829</th>\n",
       "      <td>830</td>\n",
       "      <td>bstrider mmoore</td>\n",
       "      <td>499</td>\n",
       "    </tr>\n",
       "    <tr>\n",
       "      <th>830</th>\n",
       "      <td>831</td>\n",
       "      <td>.1ilotylc@state.gov</td>\n",
       "      <td>500</td>\n",
       "    </tr>\n",
       "    <tr>\n",
       "      <th>831</th>\n",
       "      <td>832</td>\n",
       "      <td>abed inh@state.gov.</td>\n",
       "      <td>501</td>\n",
       "    </tr>\n",
       "    <tr>\n",
       "      <th>833</th>\n",
       "      <td>834</td>\n",
       "      <td>jon davidson</td>\n",
       "      <td>502</td>\n",
       "    </tr>\n",
       "    <tr>\n",
       "      <th>835</th>\n",
       "      <td>836</td>\n",
       "      <td>iynn</td>\n",
       "      <td>503</td>\n",
       "    </tr>\n",
       "    <tr>\n",
       "      <th>836</th>\n",
       "      <td>837</td>\n",
       "      <td>a bed in h@state.gov</td>\n",
       "      <td>504</td>\n",
       "    </tr>\n",
       "    <tr>\n",
       "      <th>839</th>\n",
       "      <td>840</td>\n",
       "      <td>s_specialassistants</td>\n",
       "      <td>505</td>\n",
       "    </tr>\n",
       "    <tr>\n",
       "      <th>840</th>\n",
       "      <td>841</td>\n",
       "      <td>jake.sullivar preines</td>\n",
       "      <td>506</td>\n",
       "    </tr>\n",
       "    <tr>\n",
       "      <th>843</th>\n",
       "      <td>844</td>\n",
       "      <td>capriciamarshall huma abedin</td>\n",
       "      <td>507</td>\n",
       "    </tr>\n",
       "    <tr>\n",
       "      <th>844</th>\n",
       "      <td>845</td>\n",
       "      <td>jilotylc©state.gov</td>\n",
       "      <td>508</td>\n",
       "    </tr>\n",
       "    <tr>\n",
       "      <th>845</th>\n",
       "      <td>846</td>\n",
       "      <td>marshallcp@state.goy</td>\n",
       "      <td>509</td>\n",
       "    </tr>\n",
       "    <tr>\n",
       "      <th>846</th>\n",
       "      <td>847</td>\n",
       "      <td>sid blumenthal</td>\n",
       "      <td>510</td>\n",
       "    </tr>\n",
       "    <tr>\n",
       "      <th>847</th>\n",
       "      <td>848</td>\n",
       "      <td>monica.hanle</td>\n",
       "      <td>511</td>\n",
       "    </tr>\n",
       "    <tr>\n",
       "      <th>848</th>\n",
       "      <td>849</td>\n",
       "      <td>hanle mr@state.gov</td>\n",
       "      <td>512</td>\n",
       "    </tr>\n",
       "    <tr>\n",
       "      <th>849</th>\n",
       "      <td>850</td>\n",
       "      <td>ha nleym r@state.gov</td>\n",
       "      <td>513</td>\n",
       "    </tr>\n",
       "  </tbody>\n",
       "</table>\n",
       "<p>850 rows × 3 columns</p>\n",
       "</div>"
      ],
      "text/plain": [
       "      Id                          Alias  PersonId\n",
       "0      1                 111th congress         1\n",
       "1      2   agna usemb kabul afghanistan         2\n",
       "2      3                             ap         3\n",
       "3      4                       asuncion         4\n",
       "4      5                           alec         5\n",
       "5      6                     dupuy alex         6\n",
       "6      7  american beverage association         7\n",
       "7      8                  mayock andrew         8\n",
       "9     10             shapiroa@state.gov         9\n",
       "8      9               shapiro andrew j         9\n",
       "10    11             slaughter annmarie        10\n",
       "11    12           slaughter anne marie        10\n",
       "12    13            slaughter annemarie        10\n",
       "13    14           slaughtera@state.gov        10\n",
       "441  442            annemarie slaughter        10\n",
       "14    15                   lake anthony        11\n",
       "15    16            valenzuela arturo a        12\n",
       "16    17         valenzuelaaa@state.gov        12\n",
       "17    18                     kimoon ban        13\n",
       "18    19                   obama barack        14\n",
       "19    20                      president        14\n",
       "20    21        bam@mikulski.senate.gov        15\n",
       "21    22                   mikulski bam        15\n",
       "22    23        mikulski bam (mikulski)        15\n",
       "23    24       mikulski bam (mitkulski)        15\n",
       "24    25         mikulskibam (mikulski)        15\n",
       "732  733                    betsyebelin        16\n",
       "28    29               betsyebeling1050        16\n",
       "26    27                  ebeling betsy        16\n",
       "25    26                  betsy.ebeling        16\n",
       "..   ...                            ...       ...\n",
       "811  812          sullivanij@state.gove       484\n",
       "812  813                     p rei n es       485\n",
       "813  814      imuscatine huma abedin b6       486\n",
       "814  815         tillemannts@state.gov.       487\n",
       "816  817                      markjpenr       488\n",
       "817  818                        dad mom       489\n",
       "818  819             vaimorou@state.gov       490\n",
       "819  820                         prein6       491\n",
       "820  821           sullivanjj@state.goy       492\n",
       "821  822            . vermarr@state.gov       493\n",
       "822  823           sullivanjj@siate.gov       494\n",
       "824  825               feldman daniel f       495\n",
       "825  826               ruggiero frank 3       496\n",
       "826  827                   singh vikram       497\n",
       "827  828           .filotylc@state.gov.       498\n",
       "829  830                bstrider mmoore       499\n",
       "830  831            .1ilotylc@state.gov       500\n",
       "831  832            abed inh@state.gov.       501\n",
       "833  834                   jon davidson       502\n",
       "835  836                           iynn       503\n",
       "836  837           a bed in h@state.gov       504\n",
       "839  840            s_specialassistants       505\n",
       "840  841          jake.sullivar preines       506\n",
       "843  844   capriciamarshall huma abedin       507\n",
       "844  845             jilotylc©state.gov       508\n",
       "845  846           marshallcp@state.goy       509\n",
       "846  847                 sid blumenthal       510\n",
       "847  848                   monica.hanle       511\n",
       "848  849             hanle mr@state.gov       512\n",
       "849  850           ha nleym r@state.gov       513\n",
       "\n",
       "[850 rows x 3 columns]"
      ]
     },
     "execution_count": 9,
     "metadata": {},
     "output_type": "execute_result"
    }
   ],
   "source": [
    "aliases.sort_values(by='PersonId')"
   ]
  },
  {
   "cell_type": "code",
   "execution_count": 10,
   "metadata": {},
   "outputs": [
    {
     "data": {
      "text/plain": [
       "0                     111th congress\n",
       "1       agna usemb kabul afghanistan\n",
       "2                                 ap\n",
       "3                           asuncion\n",
       "4                               alec\n",
       "5                         dupuy alex\n",
       "6      american beverage association\n",
       "7                      mayock andrew\n",
       "8                   shapiro andrew j\n",
       "9                 shapiroa@state.gov\n",
       "10                slaughter annmarie\n",
       "11              slaughter anne marie\n",
       "12               slaughter annemarie\n",
       "13              slaughtera@state.gov\n",
       "14                      lake anthony\n",
       "15               valenzuela arturo a\n",
       "16            valenzuelaaa@state.gov\n",
       "17                        kimoon ban\n",
       "18                      obama barack\n",
       "19                         president\n",
       "20           bam@mikulski.senate.gov\n",
       "21                      mikulski bam\n",
       "22           mikulski bam (mikulski)\n",
       "23          mikulski bam (mitkulski)\n",
       "24            mikulskibam (mikulski)\n",
       "25                     betsy.ebeling\n",
       "26                     ebeling betsy\n",
       "27                      betsyebeling\n",
       "28                  betsyebeling1050\n",
       "29                 clinton william j\n",
       "                   ...              \n",
       "820             sullivanjj@state.goy\n",
       "821              . vermarr@state.gov\n",
       "822             sullivanjj@siate.gov\n",
       "823                       rina amiri\n",
       "824                 feldman daniel f\n",
       "825                 ruggiero frank 3\n",
       "826                     singh vikram\n",
       "827             .filotylc@state.gov.\n",
       "828       h hrod17@clintonemail.com>\n",
       "829                  bstrider mmoore\n",
       "830              .1ilotylc@state.gov\n",
       "831              abed inh@state.gov.\n",
       "832                 burns strider b6\n",
       "833                     jon davidson\n",
       "834                          aclb b6\n",
       "835                             iynn\n",
       "836             a bed in h@state.gov\n",
       "837                  sullivan jacob.\n",
       "838                    scott gration\n",
       "839              s_specialassistants\n",
       "840            jake.sullivar preines\n",
       "841                      david brock\n",
       "842                   lanny j. davis\n",
       "843     capriciamarshall huma abedin\n",
       "844               jilotylc©state.gov\n",
       "845             marshallcp@state.goy\n",
       "846                   sid blumenthal\n",
       "847                     monica.hanle\n",
       "848               hanle mr@state.gov\n",
       "849             ha nleym r@state.gov\n",
       "Name: Alias, Length: 850, dtype: object"
      ]
     },
     "execution_count": 10,
     "metadata": {},
     "output_type": "execute_result"
    }
   ],
   "source": [
    "aliases.Alias"
   ]
  },
  {
   "cell_type": "code",
   "execution_count": 11,
   "metadata": {},
   "outputs": [
    {
     "data": {
      "text/plain": [
       "False"
      ]
     },
     "execution_count": 11,
     "metadata": {},
     "output_type": "execute_result"
    }
   ],
   "source": [
    "aliases.PersonId.is_unique"
   ]
  },
  {
   "cell_type": "code",
   "execution_count": 12,
   "metadata": {},
   "outputs": [
    {
     "data": {
      "text/plain": [
       "True"
      ]
     },
     "execution_count": 12,
     "metadata": {},
     "output_type": "execute_result"
    }
   ],
   "source": [
    "aliases.Alias.is_unique"
   ]
  },
  {
   "cell_type": "markdown",
   "metadata": {},
   "source": [
    "### Remarks and Issues\n",
    "\n",
    "`Aliases` is not to be unique per Aliases while `persons` is. Multiple obviously same Aliases point on a single person. We have to handle this in order to have an efficient database.\n",
    "\n",
    "Moreover we remark that `Id` from the person dataframe is supposed to be unique by name. Obviously it is not the case. Indeed, considering the `Id` 512 and 513 for instance, correspond both to the same person. There are several similar example.\n",
    "\n",
    "We can solve this issue by creating a table which will map the false duplicated into a single person. We will create this table during the next milestone because this is a detail and we have more important stuff now. Of course, it hurts the correctness of the network but it does not prevent us to start working on it.\n",
    "\n",
    "For the next tasks, and particularly to the creation of the Hillary's network, we first decide to associate each `MetadataTo` and `MetadataFrom` to its PersonId through Alias merge and PersonId. After that we will focus on the X persons who communicates the most with Hillary and to represent the corresponding network.\n",
    "\n",
    "## 1.2. how clean are `MetaDataTo` ('To') and `MetaDataFrom` ('From')? are there missing values? \n",
    "\n",
    "### 2.1. Clean the `aliases` and `personId` relation\n",
    "    \n",
    "### 2.2. Construction clean `To` and `From` features by processing and NaN filling\n",
    "    \n",
    "\n",
    "As said above, we get some issues with these two features since data are really dirty. Even if the Aliases and Persons datatable are provided, we remark some lack of correspondance. Keeping this in mind for the next Milestone, we focus in this section on handling missing values for those data. Then our goal is to transpose MetadataTo to its corresponding personId.\n",
    "\n",
    "The different steps are as follows:\n",
    "\n",
    "1. For missing MetadataTo/SenderPersonId, find them in the rawText\n",
    "\n",
    "2. Fetch MetadataTo to PersonId"
   ]
  },
  {
   "cell_type": "code",
   "execution_count": 13,
   "metadata": {},
   "outputs": [
    {
     "data": {
      "text/plain": [
       "Id                                int64\n",
       "DocNumber                        object\n",
       "MetadataSubject                  object\n",
       "MetadataTo                       object\n",
       "MetadataFrom                     object\n",
       "SenderPersonId                  float64\n",
       "MetadataDateSent                 object\n",
       "MetadataDateReleased             object\n",
       "MetadataPdfLink                  object\n",
       "MetadataCaseNumber               object\n",
       "MetadataDocumentClass            object\n",
       "ExtractedSubject                 object\n",
       "ExtractedTo                      object\n",
       "ExtractedFrom                    object\n",
       "ExtractedCc                      object\n",
       "ExtractedDateSent                object\n",
       "ExtractedCaseNumber              object\n",
       "ExtractedDocNumber               object\n",
       "ExtractedDateReleased            object\n",
       "ExtractedReleaseInPartOrFull     object\n",
       "ExtractedBodyText                object\n",
       "RawText                          object\n",
       "dtype: object"
      ]
     },
     "execution_count": 13,
     "metadata": {},
     "output_type": "execute_result"
    }
   ],
   "source": [
    "emails_raw.dtypes"
   ]
  },
  {
   "cell_type": "markdown",
   "metadata": {},
   "source": [
    "Unfortunately, we will have to perform some actions to get the identities of the 'from', 'to' and 'cc'. Actually, we have the value of the 'to' from the table `emails_receiver` and it points towards the `PersonId` field. However, the fields 'from' and 'cc' point towards the `aliases` (not even its identifiers!)."
   ]
  },
  {
   "cell_type": "code",
   "execution_count": 14,
   "metadata": {},
   "outputs": [
    {
     "data": {
      "text/plain": [
       "array(['F-2015-04841', 'F-2014-20439', 'F-2014-020439', 'F-2013-20439',\n",
       "       'O-2014-20439'], dtype=object)"
      ]
     },
     "execution_count": 14,
     "metadata": {},
     "output_type": "execute_result"
    }
   ],
   "source": [
    "emails_raw.MetadataCaseNumber.unique()"
   ]
  },
  {
   "cell_type": "code",
   "execution_count": 15,
   "metadata": {},
   "outputs": [
    {
     "data": {
      "text/plain": [
       "array(['HRC_Email_296', 'HRCEmail_JuneWeb', 'HRCEmail_JulyWeb',\n",
       "       'Clinton_Email_August_Release'], dtype=object)"
      ]
     },
     "execution_count": 15,
     "metadata": {},
     "output_type": "execute_result"
    }
   ],
   "source": [
    "emails_raw.MetadataDocumentClass.unique()"
   ]
  },
  {
   "cell_type": "code",
   "execution_count": 16,
   "metadata": {},
   "outputs": [
    {
     "data": {
      "text/plain": [
       "array(['RELEASE IN FULL', 'RELEASE IN PART', 'UNKNOWN'], dtype=object)"
      ]
     },
     "execution_count": 16,
     "metadata": {},
     "output_type": "execute_result"
    }
   ],
   "source": [
    "emails_raw.ExtractedReleaseInPartOrFull.unique()"
   ]
  },
  {
   "cell_type": "markdown",
   "metadata": {},
   "source": [
    "The meaning of these fields are obscure and we assume there are not relevant for our case.\n",
    "\n",
    "It is time to cast what we can."
   ]
  },
  {
   "cell_type": "code",
   "execution_count": 17,
   "metadata": {},
   "outputs": [],
   "source": [
    "emails_raw.MetadataDateSent = emails_raw.MetadataDateSent.map(pd.to_datetime)\n",
    "emails_raw.MetadataDateReleased = emails_raw.MetadataDateReleased.map(pd.to_datetime)\n",
    "emails_raw.ExtractedDateReleased = emails_raw.ExtractedDateReleased.map(pd.to_datetime)"
   ]
  },
  {
   "cell_type": "markdown",
   "metadata": {},
   "source": [
    "## Restructuring the tables\n",
    "\n",
    "The structure of the database does not respect the basic principles of well design database (foreign key, decoupling, many elements in a single cell...). We can see it if we draw the entity relationship diagram.\n",
    "\n",
    "    ----------        /\\       -----------\n",
    "    | Emails |-------<  >------| Aliases |\n",
    "    ----------        \\/       -----------\n",
    "         |             |            |\n",
    "         |             |            |\n",
    "         |             |            |\n",
    "         /\\       -----------       /\\\n",
    "        <  >------| Persons |------<  >\n",
    "         \\/       -----------       \\/\n",
    "\n",
    "The links between the tables should not be redundant because this leads to possible inconsistent states and errors. We need to decouple what we have.\n",
    "\n",
    "    ----------       /\\        -----------       /\\       -----------\n",
    "    | Emails |------<  >------ | Persons |------<  >------| Aliases |\n",
    "    ----------       \\/        -----------       \\/       -----------"
   ]
  },
  {
   "cell_type": "markdown",
   "metadata": {},
   "source": [
    "### Choose relevant fields"
   ]
  },
  {
   "cell_type": "markdown",
   "metadata": {},
   "source": [
    "Fortunately, `ExtractedDataSent` is redundant because it is contained in `MetadataDateSent` when it is not `null`. So we can simply drop it. This is great because it saves us from a lot of monkey work."
   ]
  },
  {
   "cell_type": "markdown",
   "metadata": {},
   "source": [
    "While testing manually random values, we conclude we will have to redo what was supposed to be done with most of the extracted values."
   ]
  },
  {
   "cell_type": "code",
   "execution_count": 18,
   "metadata": {},
   "outputs": [
    {
     "data": {
      "text/html": [
       "<div>\n",
       "<style scoped>\n",
       "    .dataframe tbody tr th:only-of-type {\n",
       "        vertical-align: middle;\n",
       "    }\n",
       "\n",
       "    .dataframe tbody tr th {\n",
       "        vertical-align: top;\n",
       "    }\n",
       "\n",
       "    .dataframe thead th {\n",
       "        text-align: right;\n",
       "    }\n",
       "</style>\n",
       "<table border=\"1\" class=\"dataframe\">\n",
       "  <thead>\n",
       "    <tr style=\"text-align: right;\">\n",
       "      <th></th>\n",
       "      <th>Id</th>\n",
       "      <th>MetadataSubject</th>\n",
       "      <th>SenderPersonId</th>\n",
       "      <th>MetadataTo</th>\n",
       "      <th>MetadataDateSent</th>\n",
       "      <th>MetadataDateReleased</th>\n",
       "      <th>RawText</th>\n",
       "    </tr>\n",
       "  </thead>\n",
       "  <tbody>\n",
       "    <tr>\n",
       "      <th>0</th>\n",
       "      <td>1</td>\n",
       "      <td>WOW</td>\n",
       "      <td>87.0</td>\n",
       "      <td>H</td>\n",
       "      <td>2012-09-12 04:00:00</td>\n",
       "      <td>2015-05-22 04:00:00</td>\n",
       "      <td>UNCLASSIFIED\\nU.S. Department of State\\nCase N...</td>\n",
       "    </tr>\n",
       "    <tr>\n",
       "      <th>1</th>\n",
       "      <td>2</td>\n",
       "      <td>H: LATEST: HOW SYRIA IS AIDING QADDAFI AND MOR...</td>\n",
       "      <td>NaN</td>\n",
       "      <td>H</td>\n",
       "      <td>2011-03-03 05:00:00</td>\n",
       "      <td>2015-05-22 04:00:00</td>\n",
       "      <td>UNCLASSIFIED\\nU.S. Department of State\\nCase N...</td>\n",
       "    </tr>\n",
       "    <tr>\n",
       "      <th>2</th>\n",
       "      <td>3</td>\n",
       "      <td>CHRIS STEVENS</td>\n",
       "      <td>32.0</td>\n",
       "      <td>;H</td>\n",
       "      <td>2012-09-12 04:00:00</td>\n",
       "      <td>2015-05-22 04:00:00</td>\n",
       "      <td>UNCLASSIFIED\\nU.S. Department of State\\nCase N...</td>\n",
       "    </tr>\n",
       "    <tr>\n",
       "      <th>3</th>\n",
       "      <td>4</td>\n",
       "      <td>CAIRO CONDEMNATION - FINAL</td>\n",
       "      <td>32.0</td>\n",
       "      <td>H</td>\n",
       "      <td>2012-09-12 04:00:00</td>\n",
       "      <td>2015-05-22 04:00:00</td>\n",
       "      <td>UNCLASSIFIED\\nU.S. Department of State\\nCase N...</td>\n",
       "    </tr>\n",
       "    <tr>\n",
       "      <th>4</th>\n",
       "      <td>5</td>\n",
       "      <td>H: LATEST: HOW SYRIA IS AIDING QADDAFI AND MOR...</td>\n",
       "      <td>80.0</td>\n",
       "      <td>Abedin, Huma</td>\n",
       "      <td>2011-03-11 05:00:00</td>\n",
       "      <td>2015-05-22 04:00:00</td>\n",
       "      <td>B6\\nUNCLASSIFIED\\nU.S. Department of State\\nCa...</td>\n",
       "    </tr>\n",
       "  </tbody>\n",
       "</table>\n",
       "</div>"
      ],
      "text/plain": [
       "   Id                                    MetadataSubject  SenderPersonId  \\\n",
       "0   1                                                WOW            87.0   \n",
       "1   2  H: LATEST: HOW SYRIA IS AIDING QADDAFI AND MOR...             NaN   \n",
       "2   3                                      CHRIS STEVENS            32.0   \n",
       "3   4                         CAIRO CONDEMNATION - FINAL            32.0   \n",
       "4   5  H: LATEST: HOW SYRIA IS AIDING QADDAFI AND MOR...            80.0   \n",
       "\n",
       "     MetadataTo    MetadataDateSent MetadataDateReleased  \\\n",
       "0             H 2012-09-12 04:00:00  2015-05-22 04:00:00   \n",
       "1             H 2011-03-03 05:00:00  2015-05-22 04:00:00   \n",
       "2            ;H 2012-09-12 04:00:00  2015-05-22 04:00:00   \n",
       "3             H 2012-09-12 04:00:00  2015-05-22 04:00:00   \n",
       "4  Abedin, Huma 2011-03-11 05:00:00  2015-05-22 04:00:00   \n",
       "\n",
       "                                             RawText  \n",
       "0  UNCLASSIFIED\\nU.S. Department of State\\nCase N...  \n",
       "1  UNCLASSIFIED\\nU.S. Department of State\\nCase N...  \n",
       "2  UNCLASSIFIED\\nU.S. Department of State\\nCase N...  \n",
       "3  UNCLASSIFIED\\nU.S. Department of State\\nCase N...  \n",
       "4  B6\\nUNCLASSIFIED\\nU.S. Department of State\\nCa...  "
      ]
     },
     "execution_count": 18,
     "metadata": {},
     "output_type": "execute_result"
    }
   ],
   "source": [
    "# We only keep the fields which appear in the itemization above\n",
    "emails = emails_raw[['Id', 'MetadataSubject', 'SenderPersonId', 'MetadataTo', 'MetadataDateSent', 'MetadataDateReleased', 'RawText']]\n",
    "\n",
    "emails.head()"
   ]
  },
  {
   "cell_type": "markdown",
   "metadata": {},
   "source": [
    "## find missing SenderPersonId and fetch with PersonId"
   ]
  },
  {
   "cell_type": "code",
   "execution_count": null,
   "metadata": {},
   "outputs": [
    {
     "name": "stdout",
     "output_type": "stream",
     "text": [
      "We manage to recover 11 out of 157 NaN for the sender_id.\n"
     ]
    }
   ],
   "source": [
    "# SenderPersonId\n",
    "def fetch_from_alias(alias_raw, content_raw):\n",
    "    if alias_raw is not None:\n",
    "        alias_found = Process.alias(alias_raw)\n",
    "        person_id = aliases[aliases.Alias.str.strip() == alias_found].PersonId.values\n",
    "        if len(person_id) == 1:\n",
    "            return person_id[0]\n",
    "    return np.nan\n",
    "\n",
    "def fetch_from_pid(personId, content_raw):\n",
    "    if not np.isnan(personId):\n",
    "        return personId\n",
    "    alias_extracted = Extractor.sender_alias(content_raw)\n",
    "    return fetch_from_alias(alias_extracted, content_raw)\n",
    "\n",
    "emails['from'] = emails.apply(lambda row: fetch_from_pid(row['SenderPersonId'], row['RawText']), axis=1)\n",
    "nb_nan = emails.SenderPersonId.isna().sum()\n",
    "nb_from_recover = nb_nan - emails['from'].isna().sum()\n",
    "\n",
    "emails.drop('SenderPersonId', axis=1, inplace=True)\n",
    "\n",
    "print(\"We manage to recover %d out of %d NaN for the sender_id.\" % (nb_from_recover, nb_nan))"
   ]
  },
  {
   "cell_type": "markdown",
   "metadata": {},
   "source": [
    "### How many NaN can we manage ?"
   ]
  },
  {
   "cell_type": "code",
   "execution_count": null,
   "metadata": {},
   "outputs": [
    {
     "name": "stdout",
     "output_type": "stream",
     "text": [
      "michele.flournoy\n",
      "Axelrod_D\n",
      "Terry.Duffy\n",
      "glantz.\n",
      "rosemarie.howe ;H\n",
      "cheryl.mills ;H\n",
      "rrh.interiors\n",
      "mh.interiors\n",
      "H;preines\n",
      "H;preines\n",
      "Abedin, Huma; H\n",
      "Abedin, Huma; H\n",
      "Ki-moon, Ban\n",
      "Sullivan, Jake; H\n",
      "Etats-Unis D'Amerique\n",
      "Etat-Unis D'Amerique\n",
      "Duk-soo, Han\n",
      "Duk-soo, Han\n",
      "Betsy.Ebeling\n",
      "***\n",
      "We manage to compute 7671 out of 7690 for the receiver_id.\n"
     ]
    }
   ],
   "source": [
    "# MetadataTo\n",
    "counter_not_nan = 0\n",
    "counter_recover = 0\n",
    "emails['to'] = np.nan\n",
    "\n",
    "for i in range(emails.shape[0]):\n",
    "    if not isinstance(emails.MetadataTo[i], str):\n",
    "        continue\n",
    "    counter_not_nan += 1\n",
    "    alias = Process.alias(str(emails.MetadataTo[i]))\n",
    "    person_id = aliases[aliases.Alias.str.strip() == alias].PersonId.values\n",
    "    if len(person_id) == 1:\n",
    "        emails.iat[i, -1] = person_id[0]\n",
    "        counter_recover += 1\n",
    "    else:\n",
    "        print(emails.MetadataTo[i]) # could not match a person\n",
    "\n",
    "emails.drop('MetadataTo', axis=1, inplace=True)\n",
    "print('***')\n",
    "print(\"We manage to compute %d out of %d for the receiver_id.\" % (counter_recover, counter_not_nan))"
   ]
  },
  {
   "cell_type": "markdown",
   "metadata": {},
   "source": [
    "The `MetadataTo` field contains many `NaN`s and some elements (list above) could match a person. Hope is not lost because we can extract this value from the `RawText` field.\n",
    "\n",
    "## Proceed similarly for MetadataTo"
   ]
  },
  {
   "cell_type": "code",
   "execution_count": null,
   "metadata": {},
   "outputs": [
    {
     "name": "stdout",
     "output_type": "stream",
     "text": [
      "We manage to recover 0 out of 244 NaN for the receiver.\n"
     ]
    }
   ],
   "source": [
    "def fetch_alias(to, content_raw):\n",
    "    if not np.isnan(to):\n",
    "        return to\n",
    "    else:\n",
    "        alias_extracted = Extractor.destination_alias(content_raw)\n",
    "        return fetch_from_alias(alias_extracted, content_raw)\n",
    "\n",
    "emails['to'] = emails.apply(lambda row: fetch_alias(row['to'], row['RawText']), axis=1)\n",
    "nb_nan = emails.to.isna().sum()\n",
    "nb_from_recover = nb_nan - emails.to.isna().sum()\n",
    "\n",
    "print(\"We manage to recover %d out of %d NaN for the receiver.\" % (nb_from_recover, nb_nan))"
   ]
  },
  {
   "cell_type": "markdown",
   "metadata": {},
   "source": [
    "It looks like the one who preprocessed the database before us followed the same procedure.\n",
    "\n",
    "There is one more thing we can do: we use the table `email_receivers`. As said earlier, it does not make any difference between the one who received the email directly or the one who received it through the 'cc' option.\n",
    "\n",
    "Our first guess is that the first row containing a given email is always the receiver and the others, if any, are the cc. Let's check it this assumption holds."
   ]
  },
  {
   "cell_type": "code",
   "execution_count": null,
   "metadata": {},
   "outputs": [
    {
     "name": "stdout",
     "output_type": "stream",
     "text": [
      "795 / 1244.\n"
     ]
    }
   ],
   "source": [
    "nb_tot = 0\n",
    "nb_correct = 0\n",
    "for i in range(emails.shape[0]):\n",
    "    if not np.isnan(emails.to[i]):\n",
    "        pids = email_receivers[email_receivers.EmailId == emails.Id[i]].PersonId.values\n",
    "        if len(pids) > 1:\n",
    "            nb_tot += 1\n",
    "            if pids[0] == emails.to[i]:\n",
    "                nb_correct += 1\n",
    "\n",
    "print(\"%d / %d.\" % (nb_correct, nb_tot))"
   ]
  },
  {
   "cell_type": "markdown",
   "metadata": {},
   "source": [
    "There are 1244 emails for which we have the destination AND for which there are at least 2 rows in `email_receivers`. Among these 1244, the first row is the destination in 795 times. This number is not huge but it is not small either. Assuming this ratio always holds, it is better to adopt this strategy than choosing randomly.\n",
    "\n",
    "## Find receiver as Cc"
   ]
  },
  {
   "cell_type": "code",
   "execution_count": null,
   "metadata": {},
   "outputs": [
    {
     "name": "stdout",
     "output_type": "stream",
     "text": [
      "15 out of 244 NaN.\n"
     ]
    }
   ],
   "source": [
    "def fetch_pid_through_email_receiver(eid, previous_to):\n",
    "    if np.isnan(previous_to):\n",
    "        pids = email_receivers[email_receivers.EmailId == eid].PersonId.values\n",
    "        if len(pids) >= 1:\n",
    "            return pids[0]\n",
    "    return previous_to\n",
    "\n",
    "nb_nan_before = emails.to.isna().sum()\n",
    "emails['to'] = emails.apply(lambda row: fetch_pid_through_email_receiver(row['Id'], row['to']), axis=1)\n",
    "nb_nan_after = emails.to.isna().sum()\n",
    "recover = nb_nan_before - nb_nan_after\n",
    "print(\"%d out of %d NaN.\" % (recover, nb_nan_before))"
   ]
  },
  {
   "cell_type": "markdown",
   "metadata": {},
   "source": [
    "Using the stategy we have described earlier, we feed 15 more rows with a value for the field `to`.\n",
    "\n",
    "Now that we are done with the 'from' and 'to', we can work on the 'cc'. We use the table `email_receivers` and drop the row whose `EmailId` and `PersonId` combination appears in the table `emails`."
   ]
  },
  {
   "cell_type": "code",
   "execution_count": null,
   "metadata": {},
   "outputs": [],
   "source": [
    "table_cc = pd.merge(emails, email_receivers, left_on='Id', right_on='EmailId')\n",
    "table_cc = table_cc[table_cc.to != table_cc.PersonId][['EmailId', 'PersonId']]"
   ]
  },
  {
   "cell_type": "code",
   "execution_count": null,
   "metadata": {},
   "outputs": [
    {
     "name": "stdout",
     "output_type": "stream",
     "text": [
      "1539\n",
      "9306\n"
     ]
    }
   ],
   "source": [
    "print(len(table_cc))\n",
    "print(len(email_receivers))"
   ]
  },
  {
   "cell_type": "markdown",
   "metadata": {},
   "source": [
    "As one would expect, we get a subset of the intial set.\n",
    "\n",
    "Finally, we have our new structure. But it's only a beginning.\n",
    "\n",
    "## 1.3. what is the behaviour of the content of `rawText` ? (is it messy, multi-emails, etc)\n",
    "    \n",
    "We remark that the rawText are not clean at all. It is quite difficult to catch the real content of the email, to now if a supposed email is one or an exchange of emails, etc. \n",
    "\n",
    "Assuming there is a pattern. It is not easy to find it. That's why we will use some basic rules we describe later.\n",
    "\n",
    "To ease the tasks of the Milestone we first assume that one rawText is one exchange, but that all the content is used at the same time in the analysis (we do not split exchange of emails, email per email). Secondly, we need to process the data to get the core of the content. We proceed as follows:"
   ]
  },
  {
   "cell_type": "markdown",
   "metadata": {},
   "source": [
    "## Text pre-processing"
   ]
  },
  {
   "cell_type": "markdown",
   "metadata": {},
   "source": [
    "It is time to clean the (raw) content. Since the database we have contains less than 10,000 emails, we need to preprocess the data in an effective way. We need to remove common words and common sentences which appear almost on each email. This is necessary when running marchine learning algorithm on it to get better results.\n",
    "\n",
    "This could have been enough but the database is really poor. So we need to perform more actions... We will limit ourselves to:\n",
    "\n",
    "1. Remove lines which start by a frequent sequences (e.g. \"Case No...\", \"U.S. Department of State\", ...)\n",
    "2. Replace upper case by lower case\n",
    "3. Remove the emails\n",
    "4. Tokenization based on sentence (\".\", \"!\", \"?\", ...)\n",
    "5. Remove punctionations and numbers.\n",
    "6. Remove stop words (the one provided  by nltk)\n",
    "7. [Stemming and Lemmatization](https://nlp.stanford.edu/IR-book/html/htmledition/stemming-and-lemmatization-1.html) (reducing words, \"car\" and \"cars\" should not be considered as different entity for example)\n",
    "8. Ignore sentence if it contains less than 4 words. We may loose some useful information but it filters out a huge amount of dirty words which resist the previous steps.\n",
    "9. Join the sentence to build the new content.\n",
    "\n",
    "Ideally, we would like to use lemmatization. But this would be a project in the project and it would take too much time to complete and stemming produces reasonable output.\n",
    "\n",
    "We will see that it is still not enough!\n",
    "\n",
    "10. Remove stop word we compute based on tf-idf from the step"
   ]
  },
  {
   "cell_type": "code",
   "execution_count": null,
   "metadata": {},
   "outputs": [
    {
     "name": "stdout",
     "output_type": "stream",
     "text": [
      "useless write complet stupid stuff suck exercis\n",
      "***\n",
      "useless write completely stupid stuff suck exercise\n"
     ]
    }
   ],
   "source": [
    "# You can test the function here\n",
    "lemmatize = True\n",
    "sentences = \"I like flowers. This was useless, I write completely stupid stuff because I suck for these exercises\"\n",
    "print(Process.content(sentences, not lemmatize))\n",
    "print(\"***\")\n",
    "print(Process.content(sentences, lemmatize))"
   ]
  },
  {
   "cell_type": "code",
   "execution_count": null,
   "metadata": {},
   "outputs": [],
   "source": [
    "# This may take a while...\n",
    "emails['content'] = emails.RawText.map(lambda txt: Process.content(txt, False))"
   ]
  },
  {
   "cell_type": "code",
   "execution_count": null,
   "metadata": {},
   "outputs": [
    {
     "name": "stdout",
     "output_type": "stream",
     "text": [
      "b part b h thursday januari pm b h latest intel libyan conflict leader militia|sid thank alway happi new year|confidenti januari hrc libyan leadership militia sourc sourc direct access libyan nation transit council well highest level european govern western intellig secur servic|last week decemb first week libya prime minist abdurrahim el keib presid mustafa abdul jalil engag seri emerg plan meet attempt deal specif issu threaten stabil new nation transit council ntc govern|accord extrem sensit sourc speak strict confid paramount among issu question disarm reward region militia bore major fight regim muammar al qaddafi well relat issu find minist senior administr new govern accept revolutionari forc|individu note four occas begin decemb group angri militiamen came el keib offic demand better treatment clear messag support role islam law remov former qaddafi advisor new govern|sourc comment opinion sensit sourc el keib genuin concern situat could spiral control threaten regim|also suspect much unrest stir general abdel hakim alamin belhaj conserv islamist support|stay new govern belhaj establish posit critic action appoint without concern control|said el keib told contact moslem brotherhood mb even belhaj surpris unrest militia begun manifest fight group previous share goal oper belhaj loos command|particular true case increas violent conflict misrata zintan region militia|effort address problem el keib make chang new administr remov minist econom taher sherkaz former econom advisor qaddafi particular target militiamen|opinion well inform individu el keib closest influenti advisor expert econom background experi deal western firm govern|influenti group minist oil abdulrahman ben yezza minist financ hassan ziglam nation oil compani chief nuni berrusien ngeb obeda libyan stock exchang|sourc comment opinion sensit sourc el keib jalil also concern grow critic technocrat puppet various western govern firm|belhaj militiamen appear intent limit influenc western entiti use weapon weaken el keib regim|trend also affect nation secur despit el keib effort maintain balanc islamist region command nation armi potenti danger conflict arisen posit chief staff nation armi|el kieb accord individu believ must settl matter short order avoid provok secur concern among foreign alli busi contact|accord knowledg individu late decemb e kieb resist effort general khalifa belqasim haftar establish chief staff nation armi|haftar live unit state mani year believ belhaj other relationship u govern use popular among offic corp regular ntc armi support claim chief staff|produc heat protest militia leader late decemb e keib name deputi minist defens colonel yussef al mangoush chief staff|opinion one sourc problemat choic sinc el keib replac suppos pro american haftar al mangoush command one qaddafi elit special forc unit even revolut began|individu believ el keib decis driven person animos toward haftar influenc minist defens osama al juwali|situat far resolv haftar support particular benghazi garrison continu claim general true chief staff|el keib al juwali work reconcil element conflict quick possibl support two claimant begin fight|meantim el keib state privat fulli expect belhaj attack al mangoush prime minist believ colonel offic strong enough disarm militia avoid civil war|time sensit sourc ad el keib jalil attempt reconcil fight misrata zintan forc tripoli name misrata leader fawzi abd ali minist interior al juwali command zintan militia minist defens|date accord individu effort met limit success fight continu militia refus disarm demand regard live standard met|sourc comment one sensit sourc note el keib awar fact run time stabil situat libya|believ disarm militia meet demand next six month good chanc increas fight among rival group could lead civil war|event realiz ongo instabl caus western govern firm bank hesit commit long term relationship libya|el keib believ belhaj advisor made judgment wait fill vacuum creat violenc establish conserv islam republ\n",
      "***\n",
      "B6\n",
      "UNCLASSIFIED\n",
      "U.S. Department of State\n",
      "Case No. F-2015-04841\n",
      "Doc No. C05739796\n",
      "Date: 05/13/2015\n",
      "STATE DEPT. - PRODUCED TO HOUSE SELECT BENGHAZI COMM.\n",
      "SUBJECT TO AGREEMENT ON SENSITIVE INFORMATION & REDACTIONS. NO FOIA WAIVER.\n",
      "RELEASE IN\n",
      "PART B6\n",
      "From:\n",
      "Sent:\n",
      "To:\n",
      "Subject:\n",
      "H <hrod17@clintonemail.com>\n",
      "Thursday January 5 2012 5:22 PM\n",
      "B6\n",
      "Re: H: latest intel libyan conflicts, leaders & militias. Sid\n",
      "Thanks, as always, and Happy New Year!\n",
      "_\n",
      "From:\n",
      "Sent: Thursday, January 05, 2012 12:26 PM\n",
      "To: H\n",
      "Subject: H: latest Intel libyan conflicts, leaders & militias. Sid\n",
      "CONFIDENTIAL\n",
      "January 5, 2012\n",
      "For: HRC\n",
      "From: Sid\n",
      "Re: Libyan leadership and militias\n",
      "SOURCE: Sources with direct access to the Libyan National Transitional Council, as well as the\n",
      "highest levels of European Governments, and Western Intelligence and security services.\n",
      "1. During the last week of December 2011, and the first week of 2012, Libya's Prime Minister\n",
      "Abdurrahim el-Keib and President Mustafa Abdul Jalil engaged in a series of emergency planning\n",
      "meetings attempting to deal with specific issues threatening the stability of the new National\n",
      "Transitional Council (NTC) Government. According to extremely sensitive sources speaking in strict\n",
      "confidence, paramount among these issues are the questions of disarming and rewarding the regional\n",
      "militias who bore the majority of the fighting against the regime of Muammar al Qaddafi, as well as\n",
      "the related issue of finding ministers and senior administrators for the new government who are\n",
      "acceptable to these revolutionary forces. These individuals noted that on four occasions, beginning on\n",
      "December 23, 2011, groups or angry militiamen came to el-Keib's office and demanded better\n",
      "treatment, a clear message of support for the role of Islamic law, and the removal of former Qaddafi\n",
      "advisors from the new government.\n",
      "2. (Source Comment: In the opinion of a very sensitive source, el-Keib is genuinely concerned\n",
      "that this situation could spiral out of control and threatens the regime. He also suspects that much of\n",
      "the unrest is being stirred by General Abdel Hakim Alamin Belhaj and his conservative Islamist\n",
      "supporters. By staying out of the new government, Belhaj has established a position from which he\n",
      "can criticize their actions and appointments without concern or control. That said, el — Keib has been\n",
      "told by his contacts in the Moslem Brotherhood (MB) that even Belhaj has been surprised that the\n",
      "UNCLASSIFIED\n",
      "U.S. Department of State\n",
      "Case No. F-2015-04841\n",
      "Doc No. C05739796 STATE DEPT. - PRODUCED TO HOUSE SELECT BENGHAZI COMM.\n",
      "Date: 05/13/2015 SUBJECT TO AGREEMENT ON SENSITIVE INFORMATION & REDACTIONS. NO FOIA WAIVER. STATE-SCB0045115\n",
      "\f",
      "UNCLASSIFIED\n",
      "U.S. Department of State\n",
      "Case No. F-2015-04841\n",
      "Doc No. C05739796\n",
      "Date: 05/13/2015\n",
      "STATE DEPT. - PRODUCED TO HOUSE SELECT BENGHAZI COMM.\n",
      "SUBJECT TO AGREEMENT ON SENSITIVE INFORMATION & REDACTIONS. NO FOIA WAIVER.\n",
      "unrest in the militias has begun to manifest itself in fighting between groups that previously shared\n",
      "the same goals and operated under Belhaj's loose command. This is particularly true in the case of\n",
      "the increasingly violent conflicts between the Misrata and Zintan regional militias.)\n",
      "3. In an effort to address these problems el-Keib is making changes in his new administration,\n",
      "removing Minister of Economics Taher Sherkaz, who, as a former economic advisor to Qaddafi, was a\n",
      "particular target of the militiamen. In the opinion of well informed individuals, el-Keib's closest and\n",
      "most influential advisors are experts with economic backgrounds and experience dealing with\n",
      "Western firms and governments. The most influential of this group are Minister of Oil Abdulrahman\n",
      "Ben Yezza, Minister of Finance Hassan Ziglam, National Oil Company chief Nuni Berrusien, and Ngeb\n",
      "Obeda from the Libyan Stock Exchange.\n",
      "4. (Source Comment: In the opinion of a very sensitive source, el-Keib and Jalil are also very\n",
      "concerned over growing criticism that these technocrats are puppets of various Western governments\n",
      "and firms. Belhaj and the militiamen appear intent on limiting the influence of these Western\n",
      "entities, using them as a weapon to weaken the el-Keib regime. This trend is also affecting national\n",
      "security, where, despite el-Keib's efforts to maintain a balance between the Islamists, regional\n",
      "commanders, and the national army, a potentially dangerous conflict has arisen over the position of\n",
      "Chief of Staff of the National Army. El-Kieb, according to this individual, believes that he must settle\n",
      "this matter in short order to avoid provoking security concerns among foreign allies and businesses\n",
      "contacts.)\n",
      "5. According to a knowledgeable individual, in late December 2011e1-Kieb resisted efforts by\n",
      "General Khalifa Belqasim Haftar to establish himself as the Chief of Staff of the National Army.\n",
      "Haftar, who lived in the United States for many years and is believed by Belhaj and others to have a\n",
      "relationship with the U.S. Government, is using his popularity among the officer corps of the regular\n",
      "NTC army to support his claim to be Chief of Staff. This produced heated protests from militia\n",
      "leaders and in late December 2011e1-Keib named deputy Minister of Defense Colonel Yussef al-\n",
      "Mangoush, to be Chief of Staff. In the opinion of one source, this is a problematic choice, since el-\n",
      "Keib is replacing the supposedly pro-American Haftar with al-Mangoush who commanded one of\n",
      "Qaddafi's elite Special Forces units, even after the revolution began. This individual believes that el-\n",
      "Keib's decision was driven by personal animosity toward Haftar, and the influence of Minister of\n",
      "Defense Osama al-Juwali. The situation is far from resolved, as Haftar and his supporters,\n",
      "particularly in the Benghazi garrison, continue to claim that the General is the true Chief of Staff. El-\n",
      "Keib and al-Juwali are working to reconcile all of the elements in this conflict as quickly as possible,\n",
      "before the supporters of the two claimants begin fighting. In the meantime, el-Keib has stated in\n",
      "private that he fully expects Belhaj to attack al-Mangoush, but the Prime Minister believes that the\n",
      "Colonel is the only officer strong enough to disarm the militias and avoid a civil war.\n",
      "6. At the same time, a very sensitive source added that el-Keib and Jalil are attempting to\n",
      "reconcile the fighting between Misrata and Zintan forces in Tripoli by naming Misrata leader Fawzi\n",
      "Abd Ali as Minister of the Interior and al-Juwali, who was commander of the Zintan militia, as\n",
      "Minister of Defense. To date, according to this individual, this effort has met with limited success, as\n",
      "the fighting has continued and the militias are refusing to disarm until their demands regarding living\n",
      "standards are met.\n",
      "7. (Source Comment: One very sensitive source noted, that el-Keib is aware of the fact that he\n",
      "is running out of time to stabilize the situation in Libya. He believes that if he does not disarm the\n",
      "militias and meet their demands in the next six months there is a good chance of increased fighting\n",
      "among rival groups that could lead to civil war. In any event, he realizes that the ongoing instability\n",
      "will cause Western governments, firms, and banks, to hesitate before committing themselves to long\n",
      "term relationships with Libya. El-Keib believes that Belhaj and his advisors have made the same\n",
      "judgment, and are waiting to fill any vacuum created by this violence, by establishing a conservative\n",
      "Islamic Republic.)\n",
      "UNCLASSIFIED\n",
      "U.S. Department of State\n",
      "Case No. F-2015-04841\n",
      "Doc No. C05739796\n",
      "Date: 05/13/2015\n",
      "STATE DEPT. - PRODUCED TO HOUSE SELECT BENGHAZI COMM.\n",
      "SUBJECT TO AGREEMENT ON SENSITIVE INFORMATION & REDACTIONS. NO FOIA WAIVER. STATE-SCB0045116\n",
      "\f",
      "\n"
     ]
    }
   ],
   "source": [
    "# testing results manually\n",
    "idx = 200\n",
    "print(emails.content[idx])\n",
    "print('***')\n",
    "print(emails.RawText[idx])"
   ]
  },
  {
   "cell_type": "code",
   "execution_count": null,
   "metadata": {},
   "outputs": [],
   "source": [
    "# now we can drop the raw content\n",
    "emails = emails.drop('RawText', axis=1)"
   ]
  },
  {
   "cell_type": "markdown",
   "metadata": {},
   "source": [
    "### 2.5. Features engineering and data comprehension\n",
    "    \n",
    "        2.5.0. Map emails to countries/regions\n",
    "    \n",
    "        2.5.1. Emails time distribution\n",
    "                \n",
    "        2.5.2. Word-frequency\n",
    "        \n",
    "        2.5.3. Research of thematics\n",
    "        \n",
    "The goal of this part is to provide a first step in features engineering. According to our needs for the Milestone tasks, we will first present an algorithm that permit to map as good as possible emails with countries, regions, persons, etc. Secondly we provide some basic tools in order to get a better understand about the subjects discussed, time distribution, etc. Finally we provide some ideas in order to find some reccurent thematics.\n",
    "\n",
    "\n",
    "## Data Augmented\n",
    "\n",
    "We would like to classify the email into (not excluding) categories like Middle East, Europe... But we do not have this information. We need to create it somehow. In order to build the data, we will use a system based on keywords. The dictionary on which is based our region mapping is not an exhaustive one. We will broaden it in the Milestone 3."
   ]
  },
  {
   "cell_type": "code",
   "execution_count": null,
   "metadata": {},
   "outputs": [],
   "source": [
    "emails['africa'] = emails.content.map(lambda content: Extractor.earth_area(content, \"africa\"))\n",
    "emails['central_asia'] = emails.content.map(lambda content: Extractor.earth_area(content, \"central_asia\"))\n",
    "emails['europe'] = emails.content.map(lambda content: Extractor.earth_area(content, \"europe\"))\n",
    "emails['far_east'] = emails.content.map(lambda content: Extractor.earth_area(content, \"far_east\"))\n",
    "emails['middle_east'] = emails.content.map(lambda content: Extractor.earth_area(content, \"middle_east\"))\n",
    "emails['latino'] = emails.content.map(lambda content: Extractor.earth_area(content, \"latino\"))\n",
    "emails['north_america'] = emails.content.map(lambda content: Extractor.earth_area(content, \"north_america\"))\n",
    "emails['russia'] = emails.content.map(lambda content: Extractor.earth_area(content, \"russia\"))"
   ]
  },
  {
   "cell_type": "code",
   "execution_count": null,
   "metadata": {},
   "outputs": [
    {
     "data": {
      "text/html": [
       "<div>\n",
       "<style scoped>\n",
       "    .dataframe tbody tr th:only-of-type {\n",
       "        vertical-align: middle;\n",
       "    }\n",
       "\n",
       "    .dataframe tbody tr th {\n",
       "        vertical-align: top;\n",
       "    }\n",
       "\n",
       "    .dataframe thead th {\n",
       "        text-align: right;\n",
       "    }\n",
       "</style>\n",
       "<table border=\"1\" class=\"dataframe\">\n",
       "  <thead>\n",
       "    <tr style=\"text-align: right;\">\n",
       "      <th></th>\n",
       "      <th>Id</th>\n",
       "      <th>MetadataSubject</th>\n",
       "      <th>MetadataDateSent</th>\n",
       "      <th>MetadataDateReleased</th>\n",
       "      <th>from</th>\n",
       "      <th>to</th>\n",
       "      <th>content</th>\n",
       "      <th>africa</th>\n",
       "      <th>central_asia</th>\n",
       "      <th>europe</th>\n",
       "      <th>far_east</th>\n",
       "      <th>middle_east</th>\n",
       "      <th>latino</th>\n",
       "      <th>north_america</th>\n",
       "      <th>russia</th>\n",
       "    </tr>\n",
       "  </thead>\n",
       "  <tbody>\n",
       "    <tr>\n",
       "      <th>0</th>\n",
       "      <td>1</td>\n",
       "      <td>WOW</td>\n",
       "      <td>2012-09-12 04:00:00</td>\n",
       "      <td>2015-05-22 04:00:00</td>\n",
       "      <td>87.0</td>\n",
       "      <td>80.0</td>\n",
       "      <td>wonder strong move statement boss|pleas tell m...</td>\n",
       "      <td>False</td>\n",
       "      <td>False</td>\n",
       "      <td>False</td>\n",
       "      <td>False</td>\n",
       "      <td>False</td>\n",
       "      <td>False</td>\n",
       "      <td>False</td>\n",
       "      <td>False</td>\n",
       "    </tr>\n",
       "    <tr>\n",
       "      <th>1</th>\n",
       "      <td>2</td>\n",
       "      <td>H: LATEST: HOW SYRIA IS AIDING QADDAFI AND MOR...</td>\n",
       "      <td>2011-03-03 05:00:00</td>\n",
       "      <td>2015-05-22 04:00:00</td>\n",
       "      <td>194.0</td>\n",
       "      <td>80.0</td>\n",
       "      <td>part b attach b thursday march pm h latest syr...</td>\n",
       "      <td>True</td>\n",
       "      <td>False</td>\n",
       "      <td>True</td>\n",
       "      <td>False</td>\n",
       "      <td>True</td>\n",
       "      <td>False</td>\n",
       "      <td>False</td>\n",
       "      <td>True</td>\n",
       "    </tr>\n",
       "    <tr>\n",
       "      <th>2</th>\n",
       "      <td>3</td>\n",
       "      <td>CHRIS STEVENS</td>\n",
       "      <td>2012-09-12 04:00:00</td>\n",
       "      <td>2015-05-22 04:00:00</td>\n",
       "      <td>32.0</td>\n",
       "      <td>80.0</td>\n",
       "      <td>part b thx origin messag former colleagu terri...</td>\n",
       "      <td>False</td>\n",
       "      <td>False</td>\n",
       "      <td>False</td>\n",
       "      <td>False</td>\n",
       "      <td>False</td>\n",
       "      <td>False</td>\n",
       "      <td>False</td>\n",
       "      <td>False</td>\n",
       "    </tr>\n",
       "    <tr>\n",
       "      <th>3</th>\n",
       "      <td>4</td>\n",
       "      <td>CAIRO CONDEMNATION - FINAL</td>\n",
       "      <td>2012-09-12 04:00:00</td>\n",
       "      <td>2015-05-22 04:00:00</td>\n",
       "      <td>32.0</td>\n",
       "      <td>80.0</td>\n",
       "      <td>b mill cheryl b fyi schwartz larri ranz david ...</td>\n",
       "      <td>True</td>\n",
       "      <td>False</td>\n",
       "      <td>False</td>\n",
       "      <td>False</td>\n",
       "      <td>False</td>\n",
       "      <td>False</td>\n",
       "      <td>False</td>\n",
       "      <td>False</td>\n",
       "    </tr>\n",
       "    <tr>\n",
       "      <th>4</th>\n",
       "      <td>5</td>\n",
       "      <td>H: LATEST: HOW SYRIA IS AIDING QADDAFI AND MOR...</td>\n",
       "      <td>2011-03-11 05:00:00</td>\n",
       "      <td>2015-05-22 04:00:00</td>\n",
       "      <td>80.0</td>\n",
       "      <td>81.0</td>\n",
       "      <td>b part b attach h friday march pm huma abedin ...</td>\n",
       "      <td>True</td>\n",
       "      <td>False</td>\n",
       "      <td>True</td>\n",
       "      <td>False</td>\n",
       "      <td>True</td>\n",
       "      <td>False</td>\n",
       "      <td>False</td>\n",
       "      <td>True</td>\n",
       "    </tr>\n",
       "  </tbody>\n",
       "</table>\n",
       "</div>"
      ],
      "text/plain": [
       "   Id                                    MetadataSubject    MetadataDateSent  \\\n",
       "0   1                                                WOW 2012-09-12 04:00:00   \n",
       "1   2  H: LATEST: HOW SYRIA IS AIDING QADDAFI AND MOR... 2011-03-03 05:00:00   \n",
       "2   3                                      CHRIS STEVENS 2012-09-12 04:00:00   \n",
       "3   4                         CAIRO CONDEMNATION - FINAL 2012-09-12 04:00:00   \n",
       "4   5  H: LATEST: HOW SYRIA IS AIDING QADDAFI AND MOR... 2011-03-11 05:00:00   \n",
       "\n",
       "  MetadataDateReleased   from    to  \\\n",
       "0  2015-05-22 04:00:00   87.0  80.0   \n",
       "1  2015-05-22 04:00:00  194.0  80.0   \n",
       "2  2015-05-22 04:00:00   32.0  80.0   \n",
       "3  2015-05-22 04:00:00   32.0  80.0   \n",
       "4  2015-05-22 04:00:00   80.0  81.0   \n",
       "\n",
       "                                             content  africa  central_asia  \\\n",
       "0  wonder strong move statement boss|pleas tell m...   False         False   \n",
       "1  part b attach b thursday march pm h latest syr...    True         False   \n",
       "2  part b thx origin messag former colleagu terri...   False         False   \n",
       "3  b mill cheryl b fyi schwartz larri ranz david ...    True         False   \n",
       "4  b part b attach h friday march pm huma abedin ...    True         False   \n",
       "\n",
       "   europe  far_east  middle_east  latino  north_america  russia  \n",
       "0   False     False        False   False          False   False  \n",
       "1    True     False         True   False          False    True  \n",
       "2   False     False        False   False          False   False  \n",
       "3   False     False        False   False          False   False  \n",
       "4    True     False         True   False          False    True  "
      ]
     },
     "execution_count": 31,
     "metadata": {},
     "output_type": "execute_result"
    }
   ],
   "source": [
    "emails.head()"
   ]
  },
  {
   "cell_type": "markdown",
   "metadata": {},
   "source": [
    "## Content is still messy\n",
    "\n",
    "We need to remove a lot of words. And we cannot do it manually. A good idea is to use `Counter` to remove common words among documents."
   ]
  },
  {
   "cell_type": "code",
   "execution_count": null,
   "metadata": {},
   "outputs": [],
   "source": [
    "vectorizer = TfidfVectorizer()\n",
    "corpus = []\n",
    "for doc in emails.content:\n",
    "    corpus.append(str(doc).replace(\"|\", \" \"))\n",
    "vectorizer.fit_transform(corpus)\n",
    "idf = vectorizer._tfidf.idf_\n",
    "word_score = dict(zip(vectorizer.get_feature_names(), idf))"
   ]
  },
  {
   "cell_type": "code",
   "execution_count": null,
   "metadata": {},
   "outputs": [
    {
     "name": "stdout",
     "output_type": "stream",
     "text": [
      "afg\n",
      "afganistan\n",
      "afgh\n",
      "afgha\n",
      "afghaiistai\n",
      "afghalistan\n",
      "afghan\n",
      "afghani\n",
      "afghanisan\n",
      "afghanist\n",
      "afghanistan\n",
      "afghansn\n",
      "afghanstan\n",
      "afghariistan\n",
      "afghathtml\n",
      "afgna\n"
     ]
    }
   ],
   "source": [
    "for key in word_score.keys():\n",
    "    if key.startswith(\"afg\"):\n",
    "        print(key)"
   ]
  },
  {
   "cell_type": "markdown",
   "metadata": {},
   "source": [
    "This is not surprising that there are many spell mistakes. Of course, we are not able to correct everything."
   ]
  },
  {
   "cell_type": "code",
   "execution_count": null,
   "metadata": {},
   "outputs": [
    {
     "name": "stdout",
     "output_type": "stream",
     "text": [
      "{'foreign', 'best', 'cheryl', 'last', 'note', 'even', 'person', 'make', 'secretari', 'nation', 'pleas', 'still', 'world', 'much', 'ask', 'send', 'clinton', 'morn', 'first', 'follow', 'two', 'polit', 'back', 'discuss', 'american', 'report', 'govern', 'offic', 'would', 'well', 'forward', 'full', 'intern', 'also', 'u', 'date', 'get', 'polici', 'chang', 'great', 'minist', 'work', 'posit', 'hillari', 'member', 'leader', 'part', 'sinc', 'let', 'state', 'next', 'week', 'call', 'unit', 'made', 'good', 'hope', 'general', 'want', 'right', 'see', 'countri', 'tomorrow', 'includ', 'email', 'offici', 'us', 'press', 'support', 'thank', 'develop', 'mani', 'look', 'give', 'messag', 'possibl', 'pm', 'take', 'interest', 'plan', 'fyi', 'peopl', 'come', 'move', 'told', 'end', 'believ', 'new', 'assist', 'sent', 'need', 'may', 'say', 'origin', 'use', 'continu', 'effort', 'depart', 'one', 'issu', 'know', 'inform', 'secur', 'unclassifi', 'like', 'presid', 'time', 'washington', 'meet', 'way', 'point', 'talk', 'hous', 'long', 'said', 'tri', 'direct', 'group', 'help', 'public', 'could', 'year', 'case', 'go', 'day', 'today', 'think'}\n"
     ]
    }
   ],
   "source": [
    "def stop_word_based_on_emails(threshold=3.4):\n",
    "    d = set()\n",
    "    for (key, value) in word_score.items():\n",
    "        if value < threshold:\n",
    "            d.add(key)\n",
    "    return d\n",
    "\n",
    "stop_word = stop_word_based_on_emails()\n",
    "\n",
    "# we add manually entries\n",
    "stop_word.add('u')\n",
    "\n",
    "print(stop_word)"
   ]
  },
  {
   "cell_type": "markdown",
   "metadata": {},
   "source": [
    "We remove these words from the content because they appear frequently."
   ]
  },
  {
   "cell_type": "code",
   "execution_count": null,
   "metadata": {},
   "outputs": [],
   "source": [
    "def content_without_stop_word(content):\n",
    "    ret = []\n",
    "    for sentence in str(content).split('|'):\n",
    "        acc = []\n",
    "        for word in sentence.split():\n",
    "            if word not in stop_word:\n",
    "                acc.append(word)\n",
    "        if len(acc) >= 1:\n",
    "            ret.append(\" \".join(acc))\n",
    "    return \"|\".join(ret)\n",
    "\n",
    "emails.content = emails.content.map(content_without_stop_word)"
   ]
  },
  {
   "cell_type": "code",
   "execution_count": null,
   "metadata": {},
   "outputs": [
    {
     "data": {
      "text/plain": [
       "'libyan march islamist militia benghazi peter graff suleiman al khalidi benghazi libya fri sep prn edt reuter thousand libyan march benghazi friday democraci islamist militia blame attack consul kill four ambassador|rescu benghazi demonstr disband arm refus weapon nato revolut toppl muammar gaddafi marcher head main squar smaller counter demonstr hundr hardlin islamist ansar al sharia wait|join armi forc individu medic student ahm sanallah|without prosper success libya|late afternoon demonstr cheer atmospher famili march small children shoulder|fighter jet helicopt roar overhead show demonstr enthusiast promot citi author|militari battalion impos ideolog libya confront saleh gaouda rule congress|citi stabil particip build sign cheer atmospher ear giant cardboard model benghazi landmark lighthous strap roof sun set crowd began dispers someon shot firework air|defend benghazi although main demand marcher mention attack consul seem provid strong impetus author ralli behind weak|ambassador christoph steven libya anger anti islam film consid attack embassi excess|placard english intend news camera read demand justic steven libya lost friend|kill ambassador complet separ thing old arnjad moham hassan network engin damn kill ambassador offend prophet|benghazi km mile tripoli across larg empti desert control various arm compris islamist open proclaim hostil democrat west|identifi local among consul protest|describ violenc terrorist attack|link attack ansar al shatia deni involv violenc|abu al qaa demonstr ansar al sharia counter demonstr steven prepar entri troop libya|prophet expel infidel muslim land muslim prevail|terror enemi islam tenet|fought troop iraq arrest gaddafi libya jail three|banner demonstr read rescu benghazi rescu america|southern libya least six kill injur clash forc local resid friday|forc town brak km mile south tripoli wednesday stop broadcast song craddafi radio forc former rebel fighter came attack upon arriv|addit omar al mostnari ali shuaib edit gile elgood'"
      ]
     },
     "execution_count": 36,
     "metadata": {},
     "output_type": "execute_result"
    }
   ],
   "source": [
    "emails.content[166]"
   ]
  },
  {
   "cell_type": "markdown",
   "metadata": {},
   "source": [
    "## Save our transformed data"
   ]
  },
  {
   "cell_type": "code",
   "execution_count": null,
   "metadata": {},
   "outputs": [],
   "source": [
    "PATH_TO_GENERATED = '../generated/'"
   ]
  },
  {
   "cell_type": "code",
   "execution_count": null,
   "metadata": {},
   "outputs": [],
   "source": [
    "# Saving\n",
    "emails.to_csv(PATH_TO_GENERATED + 'emails.csv', encoding='utf-8', index=False)\n",
    "table_cc.to_csv(PATH_TO_GENERATED + 'table_cc.csv', encoding='utf-8', index=False)\n",
    "persons.to_csv(PATH_TO_GENERATED + 'persons.csv', encoding='utf-8', index=False)\n",
    "aliases.to_csv(PATH_TO_GENERATED + 'aliases.csv', encoding='utf-8', index=False)"
   ]
  },
  {
   "cell_type": "code",
   "execution_count": null,
   "metadata": {},
   "outputs": [],
   "source": [
    "# Fetching\n",
    "emails = pd.read_csv(PATH_TO_GENERATED + 'emails.csv')\n",
    "persons = pd.read_csv(PATH_TO_GENERATED + 'persons.csv')\n",
    "aliases = pd.read_csv(PATH_TO_GENERATED + 'aliases.csv')\n",
    "emails.MetadataDateSent = emails.MetadataDateSent.map(pd.to_datetime)\n",
    "emails.MetadataDateReleased = emails.MetadataDateReleased.map(pd.to_datetime)"
   ]
  },
  {
   "cell_type": "markdown",
   "metadata": {},
   "source": [
    "## Word 2 vector\n",
    "\n",
    "Now that the content is cleaned, we need to represent it a vectorized way. We can use the word2vec alogorithm on the emails to \"see\" the proximity of some words.\n",
    "\n",
    "We will not reinvent the wheel. So we use the package `gensim` and compute the vectors based on sentences (and not documents).\n",
    "\n",
    "\n",
    "We train our model with the following parameters: dimension: 20, window: 4, min_count: 2. The `dimension` is the dimension of vectors. The window is a sliding rectangle containing 4 words. The `min_count` is the minimum number of times the word needs to be in the corpus to be taken into account. Finally we set `epochs` to 300.\n",
    "\n",
    "Please, run the following command if you want to play with your input.\n",
    "\n",
    "    > python3 main.py set_word2vec"
   ]
  },
  {
   "cell_type": "code",
   "execution_count": null,
   "metadata": {},
   "outputs": [],
   "source": [
    "model = Word2Vec.load('model_word2vec.bin')"
   ]
  },
  {
   "cell_type": "code",
   "execution_count": null,
   "metadata": {},
   "outputs": [
    {
     "name": "stderr",
     "output_type": "stream",
     "text": [
      "/home/ginger/anaconda3/lib/python3.6/site-packages/gensim/matutils.py:737: FutureWarning: Conversion of the second argument of issubdtype from `int` to `np.signedinteger` is deprecated. In future, it will be treated as `np.int64 == np.dtype(int).type`.\n",
      "  if np.issubdtype(vec.dtype, np.int):\n"
     ]
    },
    {
     "data": {
      "text/plain": [
       "[('assang', 0.8303134441375732),\n",
       " ('yeni', 0.7747069597244263),\n",
       " ('cabl', 0.7715380191802979),\n",
       " ('pertin', 0.7460776567459106),\n",
       " ('trove', 0.7395654320716858),\n",
       " ('smog', 0.7320009469985962),\n",
       " ('scath', 0.7250039577484131),\n",
       " ('revel', 0.7150433659553528),\n",
       " ('mesmer', 0.7150223255157471),\n",
       " ('aksam', 0.7098166942596436),\n",
       " ('megalomaniac', 0.7034844160079956),\n",
       " ('fruitless', 0.6883496046066284),\n",
       " ('dump', 0.6865352988243103),\n",
       " ('wikilealc', 0.683013379573822),\n",
       " ('wildleak', 0.6817348599433899),\n",
       " ('wire', 0.6775295734405518),\n",
       " ('horribl', 0.6764589548110962),\n",
       " ('latest', 0.6757433414459229),\n",
       " ('julian', 0.6747071146965027),\n",
       " ('leak', 0.6743411421775818)]"
      ]
     },
     "execution_count": 41,
     "metadata": {},
     "output_type": "execute_result"
    }
   ],
   "source": [
    "model.wv.most_similar(positive=\"wikileak\", topn=20)"
   ]
  },
  {
   "cell_type": "markdown",
   "metadata": {},
   "source": [
    "Word2Vec is effective when we have a corpus like wikipedia. This means we cannot really use it here since we have a small number of documents... Therefore we need to use something else."
   ]
  },
  {
   "cell_type": "markdown",
   "metadata": {},
   "source": [
    "# Visualization\n",
    "\n",
    "It is time to see what we have. We will discover the data by\n",
    "\n",
    "1. Observing the **dates** and making assumptions we hope to verify.\n",
    "2. Clustering documents by region using an unsupervised algorithm to determine the \"number of topics\".\n",
    "3. Creating a word cloud for each region.\n",
    "\n",
    "## Visualization of the dates"
   ]
  },
  {
   "cell_type": "code",
   "execution_count": null,
   "metadata": {},
   "outputs": [],
   "source": [
    "from datetime import datetime"
   ]
  },
  {
   "cell_type": "code",
   "execution_count": null,
   "metadata": {},
   "outputs": [],
   "source": [
    "emails_occurrences = emails.MetadataDateSent.dropna() \\\n",
    "    .map(lambda dt: date(dt.year, dt.month, dt.day)) \\\n",
    "    .value_counts() \\\n",
    "    .sort_index()"
   ]
  },
  {
   "cell_type": "code",
   "execution_count": null,
   "metadata": {},
   "outputs": [
    {
     "name": "stdout",
     "output_type": "stream",
     "text": [
      "There are 132 emails which are not taken into account\n"
     ]
    }
   ],
   "source": [
    "nb_nan = emails.shape[0] - emails.MetadataDateSent.dropna().shape[0]\n",
    "print(\"There are %d emails which are not taken into account\" % (nb_nan))"
   ]
  },
  {
   "cell_type": "code",
   "execution_count": null,
   "metadata": {},
   "outputs": [
    {
     "data": {
      "image/png": "[encoded data removed]",
      "text/plain": [
       "<Figure size 1080x576 with 1 Axes>"
      ]
     },
     "metadata": {
      "needs_background": "light"
     },
     "output_type": "display_data"
    }
   ],
   "source": [
    "def plot_emails_frequencies(freq):\n",
    "    plt.figure(figsize=(15,8))\n",
    "    plt.plot(freq)\n",
    "    plt.xticks(rotation=70)\n",
    "    plt.title(\"Occurrences of Hillary's emails\", size=18)\n",
    "    plt.ylabel(\"Number of emails\", size=13)\n",
    "    plt.show()\n",
    "\n",
    "plot_emails_frequencies(emails_occurrences)"
   ]
  },
  {
   "cell_type": "markdown",
   "metadata": {},
   "source": [
    "We see three interesting moments:\n",
    "\n",
    "* from 2009 to 2011\n",
    "* from 2011 to 2012 June (it looks like some emails have not been or could not be disclosed)\n",
    "* from 2012 June to 2013\n",
    "\n",
    "We introduce some external knowledge:\n",
    "\n",
    "    2009.03.17: France joins (again) NATO.\n",
    "    2009.04   : Swine flu\n",
    "    2010.04.10: Polish president dies in plane crash in Russia\n",
    "    2010.04.20: BP oil split\n",
    "    2010.05.10: The Greek crisis\n",
    "    2010.05.11: David Cameron becomes prime minister\n",
    "    2010.05.31: Gaza flotilla raid\n",
    "    2010.07   : Wikeleaks and Julian Assange\n",
    "    2011.01.01: Dilma Roussef becomes president of Brazil\n",
    "    2011.01.14: Ben Ali leaves Tunisia to Saudi Arabia\n",
    "    2011.01.25: Revolution starts in Egypt\n",
    "    2011.02.11: Hosni Moubarak resigns\n",
    "    2011.02.17: Mouammar Kadhafi's problems start\n",
    "    2011.03.11: Fukishima catastroph\n",
    "    2011.02.15: It starts in Syria\n",
    "    2011.07.22: Anders Behring Breivik in Norway\n",
    "    2011.08   : Southern Israel cross-border attacks\n",
    "    2011.10.20: Mouammar Kadhafi is killed\n",
    "\n",
    "    2012.04   : Election in France\n",
    "    2012.09.11: Christopher Stevens, US ambassador in Libya is killed\n",
    "    2012.11.06: Barack Obama is elected\n",
    "\n",
    "    2013.03.15: Hugo Chavez is dead"
   ]
  },
  {
   "cell_type": "markdown",
   "metadata": {},
   "source": [
    "## What words say\n",
    "\n",
    "It is time to show what words reveal."
   ]
  },
  {
   "cell_type": "code",
   "execution_count": null,
   "metadata": {},
   "outputs": [],
   "source": [
    "emails_africa = emails[emails['africa']]\n",
    "emails_central_asia = emails[emails['central_asia']]\n",
    "emails_europe = emails[emails['europe']]\n",
    "emails_far_east = emails[emails['far_east']]\n",
    "emails_middle_east = emails[emails['middle_east']]\n",
    "emails_latino = emails[emails['latino']]\n",
    "emails_north_america = emails[emails['north_america']]\n",
    "emails_russia = emails[emails['russia']]"
   ]
  },
  {
   "cell_type": "code",
   "execution_count": null,
   "metadata": {},
   "outputs": [],
   "source": [
    "def plot_distribution_email(start=None, end=None):\n",
    "    labels = ('Africa', 'Central Asia', 'Europe', 'Far East', 'Middle East', 'North Amercia', 'Latino', 'Russia')\n",
    "    y_pos = np.arange(len(labels))\n",
    "    if start is None or end is None:\n",
    "        title = 'Distribution of the emails'\n",
    "        mail_count = [emails_africa.shape[0], emails_central_asia.shape[0], emails_europe.shape[0],\n",
    "                      emails_far_east.shape[0], emails_middle_east.shape[0], emails_north_america.shape[0],\n",
    "                      emails_latino.shape[0], emails_russia.shape[0]]\n",
    "    else:\n",
    "        title = 'Distribution of the emails from %d-%d-%d to %d-%d-%d' % (start[0], start[1], start[2], end[0], end[1], end[2])\n",
    "        \n",
    "        tmp_africa = emails_africa.dropna(subset=['MetadataDateSent'])\n",
    "        tmp_africa = tmp_africa[(tmp_africa.MetadataDateSent >= datetime(start[0], start[1], start[2])) &\\\n",
    "                               (tmp_africa.MetadataDateSent <= datetime(end[0], end[1], end[2]))].shape[0]\n",
    "        tmp_central_asia = emails_central_asia.dropna(subset=['MetadataDateSent'])\n",
    "        tmp_central_asia = tmp_central_asia[(tmp_central_asia.MetadataDateSent >= datetime(start[0], start[1], start[2])) &\\\n",
    "                               (tmp_central_asia.MetadataDateSent <= datetime(end[0], end[1], end[2]))].shape[0]\n",
    "        tmp_europe = emails_europe.dropna(subset=['MetadataDateSent'])\n",
    "        tmp_europe = tmp_europe[(tmp_europe.MetadataDateSent >= datetime(start[0], start[1], start[2])) &\\\n",
    "                               (tmp_europe.MetadataDateSent <= datetime(end[0], end[1], end[2]))].shape[0]\n",
    "        tmp_far_east = emails_far_east.dropna(subset=['MetadataDateSent'])\n",
    "        tmp_far_east = tmp_far_east[(tmp_far_east.MetadataDateSent >= datetime(start[0], start[1], start[2])) &\\\n",
    "                               (tmp_far_east.MetadataDateSent <= datetime(end[0], end[1], end[2]))].shape[0]\n",
    "        tmp_middle_east = emails_middle_east.dropna(subset=['MetadataDateSent'])\n",
    "        tmp_middle_east = tmp_middle_east[(tmp_middle_east.MetadataDateSent >= datetime(start[0], start[1], start[2])) &\\\n",
    "                               (tmp_middle_east.MetadataDateSent <= datetime(end[0], end[1], end[2]))].shape[0]\n",
    "        tmp_north_america = emails_north_america.dropna(subset=['MetadataDateSent'])\n",
    "        tmp_north_america = tmp_north_america[(tmp_north_america.MetadataDateSent >= datetime(start[0], start[1], start[2])) &\\\n",
    "                               (tmp_north_america.MetadataDateSent <= datetime(end[0], end[1], end[2]))].shape[0]\n",
    "        tmp_latino = emails_latino.dropna(subset=['MetadataDateSent'])\n",
    "        tmp_latino = tmp_latino[(tmp_latino.MetadataDateSent >= datetime(start[0], start[1], start[2])) &\\\n",
    "                               (tmp_latino.MetadataDateSent <= datetime(end[0], end[1], end[2]))].shape[0]\n",
    "        tmp_russia = emails_russia.dropna(subset=['MetadataDateSent'])\n",
    "        tmp_russia = tmp_russia[(tmp_russia.MetadataDateSent >= datetime(start[0], start[1], start[2])) &\\\n",
    "                               (tmp_russia.MetadataDateSent <= datetime(end[0], end[1], end[2]))].shape[0]\n",
    "        \n",
    "        mail_count = [tmp_africa, tmp_central_asia, tmp_europe,\n",
    "                      tmp_far_east, tmp_middle_east, tmp_north_america,\n",
    "                      tmp_latino, tmp_russia]\n",
    "    plt.figure(figsize=(15,3))\n",
    "    plt.barh(y_pos, mail_count, align='center', alpha=1)\n",
    "    plt.yticks(y_pos, labels)\n",
    "    plt.xlabel('Number of emails')\n",
    "    plt.title(title)\n",
    "\n",
    "    plt.show()"
   ]
  },
  {
   "cell_type": "code",
   "execution_count": null,
   "metadata": {},
   "outputs": [
    {
     "data": {
      "image/png": "[encoded data removed]",
      "text/plain": [
       "<Figure size 1080x216 with 1 Axes>"
      ]
     },
     "metadata": {
      "needs_background": "light"
     },
     "output_type": "display_data"
    }
   ],
   "source": [
    "plot_distribution_email()"
   ]
  },
  {
   "cell_type": "markdown",
   "metadata": {},
   "source": [
    "Some care is necessary before interpreting this plot. It is not a surprse that North America outnumbered the other places. Since the content of the emails are based from the american point of view, keyword extraction will consider more emails related to North America than we should."
   ]
  },
  {
   "cell_type": "code",
   "execution_count": null,
   "metadata": {},
   "outputs": [],
   "source": [
    "def word_bar_plot(words, title, xlabel):\n",
    "    '''Plot the horizontal bar chart for each region'''\n",
    "    plt.figure(figsize=(15,7))\n",
    "    plt.barh(range(len(words)),[val[1] for val in words], align='center')\n",
    "    plt.yticks(range(len(words)), [val[0] for val in words])\n",
    "    plt.xlabel(xlabel)\n",
    "    plt.title(title)\n",
    "    plt.show()"
   ]
  },
  {
   "cell_type": "code",
   "execution_count": null,
   "metadata": {},
   "outputs": [],
   "source": [
    "def get_top_words(corpus, words=None, n=30, tf_idf=True, plot=True):\n",
    "    \"\"\"\n",
    "    List the top n words in a vocabulary according to occurrence in a text corpus.\n",
    "    \"\"\"\n",
    "    corpus = corpus.dropna()\n",
    "    xlabel = 'Count words'\n",
    "    \n",
    "    if words is not None:\n",
    "        corpus = corpus[corpus.str.contains(words)]\n",
    "\n",
    "    if tf_idf:\n",
    "        vec = TfidfVectorizer(ngram_range=(2,2)).fit(corpus)\n",
    "        xlabel = 'Tf-Idf scores'\n",
    "    else:\n",
    "        vec = CountVectorizer(ngram_range=(2,2)).fit(corpus)\n",
    "    bag_of_words = vec.transform(corpus)\n",
    "    sum_words = bag_of_words.sum(axis=0) \n",
    "    words_freq = [(word, sum_words[0, idx]) for word, idx in vec.vocabulary_.items()]\n",
    "    words_freq = sorted(words_freq, key = lambda x: x[1], reverse=True)\n",
    "    \n",
    "    if plot:\n",
    "        word_bar_plot(words_freq[:n], words, xlabel)\n",
    "    return words_freq[:n]"
   ]
  },
  {
   "cell_type": "code",
   "execution_count": null,
   "metadata": {},
   "outputs": [
    {
     "data": {
      "image/png": "[encoded data removed]",
      "text/plain": [
       "<Figure size 1080x504 with 1 Axes>"
      ]
     },
     "metadata": {
      "needs_background": "light"
     },
     "output_type": "display_data"
    }
   ],
   "source": [
    "w = get_top_words(emails_africa.content, None)\n"
   ]
  },
  {
   "cell_type": "code",
   "execution_count": null,
   "metadata": {},
   "outputs": [
    {
     "data": {
      "image/png": "[encoded data removed]",
      "text/plain": [
       "<Figure size 1080x504 with 1 Axes>"
      ]
     },
     "metadata": {
      "needs_background": "light"
     },
     "output_type": "display_data"
    }
   ],
   "source": [
    "w = get_top_words(emails_central_asia.content, None)\n"
   ]
  },
  {
   "cell_type": "code",
   "execution_count": null,
   "metadata": {},
   "outputs": [
    {
     "data": {
      "image/png": "[encoded data removed]",
      "text/plain": [
       "<Figure size 1080x504 with 1 Axes>"
      ]
     },
     "metadata": {
      "needs_background": "light"
     },
     "output_type": "display_data"
    }
   ],
   "source": [
    "w = get_top_words(emails_europe.content, None)"
   ]
  },
  {
   "cell_type": "code",
   "execution_count": null,
   "metadata": {},
   "outputs": [
    {
     "data": {
      "image/png": "[encoded data removed]",
      "text/plain": [
       "<Figure size 1080x504 with 1 Axes>"
      ]
     },
     "metadata": {
      "needs_background": "light"
     },
     "output_type": "display_data"
    }
   ],
   "source": [
    "w = get_top_words(emails_middle_east.content, None)\n"
   ]
  },
  {
   "cell_type": "code",
   "execution_count": null,
   "metadata": {},
   "outputs": [
    {
     "data": {
      "image/png": "[encoded data removed]",
      "text/plain": [
       "<Figure size 1080x504 with 1 Axes>"
      ]
     },
     "metadata": {
      "needs_background": "light"
     },
     "output_type": "display_data"
    }
   ],
   "source": [
    "w = get_top_words(emails_far_east.content, None)\n"
   ]
  },
  {
   "cell_type": "code",
   "execution_count": null,
   "metadata": {},
   "outputs": [
    {
     "data": {
      "image/png": "[encoded data removed]",
      "text/plain": [
       "<Figure size 1080x504 with 1 Axes>"
      ]
     },
     "metadata": {
      "needs_background": "light"
     },
     "output_type": "display_data"
    }
   ],
   "source": [
    "w = get_top_words(emails_latino.content, None)"
   ]
  },
  {
   "cell_type": "code",
   "execution_count": null,
   "metadata": {},
   "outputs": [
    {
     "data": {
      "image/png": "[encoded data removed]",
      "text/plain": [
       "<Figure size 1080x504 with 1 Axes>"
      ]
     },
     "metadata": {
      "needs_background": "light"
     },
     "output_type": "display_data"
    }
   ],
   "source": [
    "w = get_top_words(emails_north_america.content, None)"
   ]
  },
  {
   "cell_type": "code",
   "execution_count": null,
   "metadata": {},
   "outputs": [
    {
     "data": {
      "image/png": "[encoded data removed]",
      "text/plain": [
       "<Figure size 1080x504 with 1 Axes>"
      ]
     },
     "metadata": {
      "needs_background": "light"
     },
     "output_type": "display_data"
    }
   ],
   "source": [
    "w = get_top_words(emails_russia.content, None)"
   ]
  },
  {
   "cell_type": "markdown",
   "metadata": {},
   "source": [
    "Based on the horizontal plot for each region, we guess the main subjects are: (comment are done according to 1-gram and 2-grams)\n",
    "\n",
    "* **Africa:** Human rights, Libya, policy transition, islam, revolution of 2011.\n",
    "* **Central Asia:** Human rights, Al Qaida, Ben Laden. Pakistant, Saudia Arabia.\n",
    "* **Europe:** Climat change, European Union, UK, human rights.\n",
    "* **Far East:** Petrol, climat change, human rights. Related to specific countries as North Korea, South Korea, Saudi Arabia\n",
    "* **Middle east:** Human rights, peace, missil defense. Related to Israel, Palestinia.\n",
    "* **North America:** Health care, human rights are some subjects.\n",
    "* **Latino:** Contains only around 250 emails for subjects completely different. Difficult to conclude anything.\n",
    "* **Russia:** Missil defense, human rights, north korean, arm control are some interesting suubject related to Russia.\n",
    "\n",
    "It is interesting to remark that the only subject that is shared everywhere is the Human Rights.\n",
    "\n",
    "### Evolution of the distribution\n",
    "\n",
    "We have seen that there are three moments which can be identified when looking at the plot of the number of emails per day. Let's have a look at:\n",
    "\n",
    "(Note the scale are different)"
   ]
  },
  {
   "cell_type": "code",
   "execution_count": null,
   "metadata": {},
   "outputs": [
    {
     "data": {
      "image/png": "[encoded data removed]",
      "text/plain": [
       "<Figure size 1080x216 with 1 Axes>"
      ]
     },
     "metadata": {
      "needs_background": "light"
     },
     "output_type": "display_data"
    }
   ],
   "source": [
    "plot_distribution_email([2009, 1, 1], [2011, 1, 1])"
   ]
  },
  {
   "cell_type": "code",
   "execution_count": null,
   "metadata": {},
   "outputs": [
    {
     "data": {
      "image/png": "[encoded data removed]",
      "text/plain": [
       "<Figure size 1080x216 with 1 Axes>"
      ]
     },
     "metadata": {
      "needs_background": "light"
     },
     "output_type": "display_data"
    }
   ],
   "source": [
    "plot_distribution_email([2011, 1, 1], [2012, 6, 1])"
   ]
  },
  {
   "cell_type": "markdown",
   "metadata": {},
   "source": [
    "The above plot covers the Arab revolution in 2011 + NATO operation in Libya."
   ]
  },
  {
   "cell_type": "code",
   "execution_count": null,
   "metadata": {},
   "outputs": [
    {
     "data": {
      "image/png": "[encoded data removed]",
      "text/plain": [
       "<Figure size 1080x216 with 1 Axes>"
      ]
     },
     "metadata": {
      "needs_background": "light"
     },
     "output_type": "display_data"
    }
   ],
   "source": [
    "plot_distribution_email([2012, 6, 1], [2013, 1, 1])"
   ]
  },
  {
   "cell_type": "markdown",
   "metadata": {},
   "source": [
    "As we have said, the US ambassador for Libya was killed in September 2012. This is probably the reason why we have so many emails one year after Kaddafi."
   ]
  },
  {
   "cell_type": "markdown",
   "metadata": {},
   "source": [
    "## Visualization of the classes\n",
    "\n",
    "If we compare the dataset we have with what we are used to have, then we can say our dataset is really small. However, it is still impossible for a human to read and group documents together. It is obvious we need an unsupervised algorithm. We hope the cosine distance between document will reveal the number of classes per region and complete with external knowledge to name them.\n",
    "\n",
    "The dendogram code is taken from [here](http://brandonrose.org/clustering) on November 24th 2018."
   ]
  },
  {
   "cell_type": "code",
   "execution_count": null,
   "metadata": {},
   "outputs": [],
   "source": [
    "# Dendogram\n",
    "def plot_dendogram(region):\n",
    "    emails_filtered = emails[emails.content.map(lambda content: Extractor.earth_area(str(content), region))].content\n",
    "    tfidf_matrix = Analyse.tfidf_matrix(emails_filtered)\n",
    "    dist = 1 - cosine_similarity(tfidf_matrix)\n",
    "    linkage_matrix = ward(dist)\n",
    "    \n",
    "    fig, ax = plt.subplots(figsize=(15, 20)) # set size\n",
    "    ax = dendrogram(linkage_matrix, orientation=\"right\")\n",
    "\n",
    "    plt.tick_params(\\\n",
    "        axis= 'x',         # changes apply to the x-axis\n",
    "        which='both',      # both major and minor ticks are affected\n",
    "        bottom=False,      # ticks along the bottom edge are off\n",
    "        top=False,         # ticks along the top edge are off\n",
    "        labelbottom=False)\n",
    "\n",
    "    plt.tight_layout() #show plot with tight layout"
   ]
  },
  {
   "cell_type": "code",
   "execution_count": null,
   "metadata": {},
   "outputs": [
    {
     "data": {
      "image/png": "[encoded data removed]",
      "text/plain": [
       "<Figure size 1080x1440 with 1 Axes>"
      ]
     },
     "metadata": {
      "needs_background": "light"
     },
     "output_type": "display_data"
    }
   ],
   "source": [
    "plot_dendogram('africa')"
   ]
  },
  {
   "cell_type": "markdown",
   "metadata": {},
   "source": [
    "Africa is dominated by 3 classes even if we only see two colors."
   ]
  },
  {
   "cell_type": "code",
   "execution_count": null,
   "metadata": {},
   "outputs": [],
   "source": [
    "plot_dendogram('middle_east')"
   ]
  },
  {
   "cell_type": "markdown",
   "metadata": {},
   "source": [
    "The middle east is divided into 3 classes."
   ]
  },
  {
   "cell_type": "code",
   "execution_count": null,
   "metadata": {},
   "outputs": [],
   "source": [
    "plot_dendogram('europe')"
   ]
  },
  {
   "cell_type": "markdown",
   "metadata": {},
   "source": [
    "This diagram suggests Europe is not dominated by one or two topics in particular. We can explain that by the fact that Europe is interfering with many countries and organizations (EU, Libya, NATO, Iran, ...)"
   ]
  },
  {
   "cell_type": "code",
   "execution_count": null,
   "metadata": {},
   "outputs": [],
   "source": [
    "plot_dendogram('central_asia')"
   ]
  },
  {
   "cell_type": "code",
   "execution_count": null,
   "metadata": {},
   "outputs": [],
   "source": [
    "plot_dendogram('far_east')"
   ]
  },
  {
   "cell_type": "markdown",
   "metadata": {},
   "source": [
    "The purple and the red are likely to be China and Korea."
   ]
  },
  {
   "cell_type": "code",
   "execution_count": null,
   "metadata": {},
   "outputs": [],
   "source": [
    "plot_dendogram('russia')"
   ]
  },
  {
   "cell_type": "code",
   "execution_count": null,
   "metadata": {},
   "outputs": [],
   "source": [
    "plot_dendogram('latino')"
   ]
  },
  {
   "cell_type": "markdown",
   "metadata": {},
   "source": [
    "## Word Cloud"
   ]
  },
  {
   "cell_type": "code",
   "execution_count": null,
   "metadata": {},
   "outputs": [],
   "source": [
    "from wordcloud import WordCloud"
   ]
  },
  {
   "cell_type": "code",
   "execution_count": null,
   "metadata": {},
   "outputs": [],
   "source": [
    "import wordcloud\n",
    "print(wordcloud._version)"
   ]
  },
  {
   "cell_type": "code",
   "execution_count": null,
   "metadata": {},
   "outputs": [],
   "source": [
    "def wordcloud_visualization(contents):\n",
    "    wordcloud = WordCloud(background_color=\"white\").generate(str(contents))\n",
    "    fig, ax = plt.subplots(figsize=(15, 20))\n",
    "    plt.imshow(wordcloud, interpolation='bilinear')\n",
    "    plt.axis(\"off\")\n",
    "    plt.show()"
   ]
  },
  {
   "cell_type": "code",
   "execution_count": null,
   "metadata": {},
   "outputs": [],
   "source": [
    "wordcloud_visualization(emails_africa.content)"
   ]
  },
  {
   "cell_type": "code",
   "execution_count": null,
   "metadata": {},
   "outputs": [],
   "source": [
    "wordcloud_visualization(emails_middle_east.content)"
   ]
  },
  {
   "cell_type": "code",
   "execution_count": null,
   "metadata": {},
   "outputs": [],
   "source": [
    "wordcloud_visualization(emails_europe.content)"
   ]
  },
  {
   "cell_type": "code",
   "execution_count": null,
   "metadata": {},
   "outputs": [],
   "source": [
    "wordcloud_visualization(emails_central_asia.content)"
   ]
  },
  {
   "cell_type": "code",
   "execution_count": null,
   "metadata": {},
   "outputs": [],
   "source": [
    "wordcloud_visualization(emails_far_east.content)"
   ]
  },
  {
   "cell_type": "code",
   "execution_count": null,
   "metadata": {},
   "outputs": [],
   "source": [
    "wordcloud_visualization(emails_russia.content)"
   ]
  },
  {
   "cell_type": "code",
   "execution_count": null,
   "metadata": {},
   "outputs": [],
   "source": [
    "wordcloud_visualization(emails_latino.content)"
   ]
  },
  {
   "cell_type": "markdown",
   "metadata": {},
   "source": [
    "# Network Analysis"
   ]
  },
  {
   "cell_type": "markdown",
   "metadata": {},
   "source": [
    "In the Milestone 3 we will continue the text processing that should take at least 50% of the work time. We will do it continuously in working on different tasks and updating the text processing. The text processing includes a better handling of Alias versus Person Id, cleaning text in order to merge similar words with typos, etc. \n",
    "\n",
    "For the 50% remaining time, the different tasks are as follow:\n",
    "\n",
    "1. Create the Hillary's Network and visualize it with the most important person.\n",
    "\n",
    "2. Improve the plot representations (our plot are essantially barplots until now, it was helpful in order to understand the dependencies, etc. We want now to improve the visualizations).\n",
    "\n",
    "3. Improve the dictionary words per region since many words related to a region do not appear in our current dictionaries.\n",
    "\n",
    "4. Work deeper for specific thematic in order to cluster region by thematics.\n",
    "\n",
    "As bonus, if time remains we want to create a world map based on emails exchange including a time slider dimension."
   ]
  }
 ],
 "metadata": {
  "kernelspec": {
   "display_name": "Python 3",
   "language": "python",
   "name": "python3"
  },
  "language_info": {
   "codemirror_mode": {
    "name": "ipython",
    "version": 3
   },
   "file_extension": ".py",
   "mimetype": "text/x-python",
   "name": "python",
   "nbconvert_exporter": "python",
   "pygments_lexer": "ipython3",
   "version": "3.6.6"
  }
 },
 "nbformat": 4,
 "nbformat_minor": 2
}
